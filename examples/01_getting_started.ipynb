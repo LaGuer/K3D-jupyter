{
 "cells": [
  {
   "cell_type": "markdown",
   "metadata": {},
   "source": [
    "# Getting Started\n",
    "\n",
    "In this example we will learn how to create and display K3D plots.\n",
    "\n",
    "The main object is the plot, which can be created using the `plot()` fuction from the `k3d` module.\n",
    "\n",
    "To show the plot below a Jupyter cell, we call its `display()` method."
   ]
  },
  {
   "cell_type": "code",
   "execution_count": null,
   "metadata": {},
   "outputs": [],
   "source": [
    "import k3d\n",
    "plot = k3d.plot()\n",
    "\n",
    "# here you would normally create objects to display\n",
    "# and add them to the plot\n",
    "\n",
    "plot.display()"
   ]
  },
  {
   "cell_type": "markdown",
   "metadata": {
    "collapsed": true
   },
   "source": [
    "If K3D is installed properly, after executing the above snippet you should see something like this:\n",
    "\n",
    "![Empty plot](assets/01_empty_plot.png \"Empty K3D plot\")\n",
    "\n",
    "In the next example we will learn how to display objects on the plot."
   ]
  },
  {
   "cell_type": "code",
   "execution_count": null,
   "metadata": {},
   "outputs": [],
   "source": []
  }
 ],
 "metadata": {
  "kernelspec": {
   "display_name": "Python 3",
   "language": "python",
   "name": "python3"
  },
  "language_info": {
   "codemirror_mode": {
    "name": "ipython",
    "version": 3
   },
   "file_extension": ".py",
   "mimetype": "text/x-python",
   "name": "python",
   "nbconvert_exporter": "python",
   "pygments_lexer": "ipython3",
   "version": "3.6.5"
  }
 },
 "nbformat": 4,
 "nbformat_minor": 2
}
