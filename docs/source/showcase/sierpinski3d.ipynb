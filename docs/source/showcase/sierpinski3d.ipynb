{
 "cells": [
  {
   "cell_type": "markdown",
   "metadata": {},
   "source": [
    "# Sierpinski 3D"
   ]
  },
  {
   "cell_type": "code",
   "execution_count": 1,
   "metadata": {},
   "outputs": [
    {
     "data": {
      "application/vnd.jupyter.widget-view+json": {
       "model_id": "83b6411c22bb4861a3cc0f9a29c4ab59",
       "version_major": 2,
       "version_minor": 0
      },
      "text/plain": [
       "Output()"
      ]
     },
     "metadata": {},
     "output_type": "display_data"
    }
   ],
   "source": [
    "import k3d\n",
    "import numpy as np\n",
    "\n",
    "iteration = 4\n",
    "size = 3**iteration\n",
    "\n",
    "voxels = np.ones((size, size, size));\n",
    "\n",
    "def iterate(length, x, y, z):\n",
    "    \n",
    "    nl = length // 3    \n",
    "    \n",
    "    if nl < 1:\n",
    "        return\n",
    "    \n",
    "    margin = (nl-1) // 2\n",
    "\n",
    "    voxels[z-margin:z+margin+1, y-margin:y+margin+1, :] = 0\n",
    "    voxels[z-margin:z+margin+1, :, x-margin:x+margin+1] = 0\n",
    "    voxels[:, y-margin:y+margin+1, x-margin:x+margin+1] = 0    \n",
    "    \n",
    "    for ix,iy,iz in np.ndindex((3,3,3)):\n",
    "        if (1 if ix !=1 else 0) + (1 if iy != 1 else 0) + (1 if iz != 1 else 0) !=2:\n",
    "            iterate(nl, x + (ix-1) * nl, y + (iy-1) * nl , z + (iz-1) * nl)\n",
    "\n",
    "iterate(size, size//2, size//2, size//2)\n",
    "\n",
    "color_map = (0xffff00)\n",
    "plot = k3d.plot()\n",
    "plot += k3d.voxels(voxels.astype(np.uint8), color_map)\n",
    "plot.lighting = 2.0\n",
    "plot.display()"
   ]
  },
  {
   "cell_type": "code",
   "execution_count": null,
   "metadata": {},
   "outputs": [],
   "source": []
  }
 ],
 "metadata": {
  "kernelspec": {
   "display_name": "Python 3",
   "language": "python",
   "name": "python3"
  },
  "language_info": {
   "codemirror_mode": {
    "name": "ipython",
    "version": 3
   },
   "file_extension": ".py",
   "mimetype": "text/x-python",
   "name": "python",
   "nbconvert_exporter": "python",
   "pygments_lexer": "ipython3",
   "version": "3.6.5"
  },
  "widgets": {
   "application/vnd.jupyter.widget-state+json": {
    "state": {
     "5ad2c6d694134b35a7b087807382005a": {
      "buffers": [
       {
        "data": "eNpj+P+fAQAE/wH/",
        "encoding": "base64",
        "path": [
         "color_map",
         "compressed_buffer"
        ]
       },
       {
        "data": "eNpjYFjkxAAHSlA2TEwJSQ4khswHgQZ7AJgDBJg=",
        "encoding": "base64",
        "path": [
         "model_matrix",
         "compressed_buffer"
        ]
       },
       {
        "data": "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",
        "encoding": "base64",
        "path": [
         "voxels",
         "compressed_buffer"
        ]
       }
      ],
      "model_module": "k3d",
      "model_module_version": "2.6.8",
      "model_name": "ObjectModel",
      "state": {
       "_view_count": null,
       "_view_module": null,
       "_view_module_version": "",
       "_view_name": null,
       "color_map": {
        "dtype": "uint32",
        "shape": []
       },
       "compression_level": 0,
       "id": 2159768761736,
       "model_matrix": {
        "dtype": "float32",
        "shape": [
         4,
         4
        ]
       },
       "name": null,
       "opacity": 1,
       "outlines": true,
       "outlines_color": 0,
       "type": "Voxels",
       "visible": true,
       "voxels": {
        "dtype": "uint8",
        "shape": [
         81,
         81,
         81
        ]
       },
       "wireframe": false
      }
     },
     "81547c0aaa854900abd8defacf5b5c36": {
      "model_module": "k3d",
      "model_module_version": "2.6.8",
      "model_name": "PlotModel",
      "state": {
       "_backend_version": "2.6.8",
       "_dom_classes": [],
       "_view_count": null,
       "antialias": 3,
       "axes": [
        "x",
        "y",
        "z"
       ],
       "background_color": 16777215,
       "camera": [
        157.14814330211217,
        -134.59721393406855,
        52.11981469708722,
        40.45000040763989,
        40.45000040763989,
        40.45000040763989,
        0,
        0,
        1
       ],
       "camera_auto_fit": true,
       "camera_no_pan": false,
       "camera_no_rotate": false,
       "camera_no_zoom": false,
       "clipping_planes": [],
       "colorbar_object_id": -1,
       "fps_meter": false,
       "grid": [
        -1,
        -1,
        -1,
        1,
        1,
        1
       ],
       "grid_auto_fit": true,
       "grid_visible": true,
       "height": 512,
       "layout": "IPY_MODEL_bda5f173bf2e409791d286f1167ea692",
       "lighting": 2,
       "menu_visibility": true,
       "object_ids": [
        2159768761736
       ],
       "rendering_steps": 1,
       "screenshot": "",
       "screenshot_scale": 4,
       "time": 0,
       "voxel_paint_color": 0
      }
     },
     "83b6411c22bb4861a3cc0f9a29c4ab59": {
      "model_module": "@jupyter-widgets/output",
      "model_module_version": "1.0.0",
      "model_name": "OutputModel",
      "state": {
       "layout": "IPY_MODEL_c1d3a10e45c24df39d6fc6a42a3c9885",
       "outputs": [
        {
         "data": {
          "application/vnd.jupyter.widget-view+json": {
           "model_id": "81547c0aaa854900abd8defacf5b5c36",
           "version_major": 2,
           "version_minor": 0
          },
          "text/plain": "Plot(antialias=3, axes=['x', 'y', 'z'], background_color=16777215, camera=[4.5, 4.5, 4.5, 0.0, 0.0, 0.0, 1.0, …"
         },
         "metadata": {},
         "output_type": "display_data"
        }
       ]
      }
     },
     "bda5f173bf2e409791d286f1167ea692": {
      "model_module": "@jupyter-widgets/base",
      "model_module_version": "1.0.0",
      "model_name": "LayoutModel",
      "state": {}
     },
     "c1d3a10e45c24df39d6fc6a42a3c9885": {
      "model_module": "@jupyter-widgets/base",
      "model_module_version": "1.0.0",
      "model_name": "LayoutModel",
      "state": {}
     }
    },
    "version_major": 2,
    "version_minor": 0
   }
  }
 },
 "nbformat": 4,
 "nbformat_minor": 2
}
