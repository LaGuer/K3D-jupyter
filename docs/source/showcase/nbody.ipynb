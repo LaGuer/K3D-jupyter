{
 "cells": [
  {
   "cell_type": "markdown",
   "metadata": {},
   "source": [
    "# N-body simulation"
   ]
  },
  {
   "cell_type": "code",
   "execution_count": 1,
   "metadata": {},
   "outputs": [
    {
     "data": {
      "application/vnd.jupyter.widget-view+json": {
       "model_id": "981d25ee4a604c7bbde0965da8c2c097",
       "version_major": 2,
       "version_minor": 0
      },
      "text/plain": [
       "Output()"
      ]
     },
     "metadata": {},
     "output_type": "display_data"
    }
   ],
   "source": [
    "import k3d\n",
    "import math\n",
    "import numpy as np\n",
    "\n",
    "plot = k3d.plot(camera_auto_fit=False)\n",
    "plot.display()"
   ]
  },
  {
   "cell_type": "code",
   "execution_count": 2,
   "metadata": {},
   "outputs": [],
   "source": [
    "bodies_count = 25\n",
    "bodies = np.random.random_sample((bodies_count, 7))\n",
    "bodies[:, 0:6] -= 0.5\n",
    "bodies[:, 3:6] *= 0.05\n",
    "bodies[:,6] = (bodies[:,6] + 0.5) * 1000\n",
    "bodies[0,:] = np.array([0,0,0,0,0,0,1e6])\n",
    "\n",
    "for i in range(1, bodies_count):\n",
    "    bodies[i, 0:3] = (bodies[i, 0:3] / np.linalg.norm(bodies[i, 0:3])) * 0.5\n",
    "\n",
    "\n",
    "points = k3d.points(bodies[:, 0:3].astype(np.float32), color=0, point_size=0.05)\n",
    "plot += points"
   ]
  },
  {
   "cell_type": "code",
   "execution_count": 3,
   "metadata": {},
   "outputs": [],
   "source": [
    "G = 6.67E-11\n",
    "lines = []\n",
    "speeds = []\n",
    "positions = {}\n",
    "\n",
    "for i in range(bodies_count):\n",
    "    lines.append([])\n",
    "    speeds.append([])\n",
    "    \n",
    "for t in range(500):    \n",
    "    for i in range(bodies_count):\n",
    "        sum_force = np.zeros(3)\n",
    "        \n",
    "        for j in range(bodies_count):\n",
    "            if i == j:\n",
    "                continue\n",
    "            \n",
    "            direction = bodies[j, 0:3] - bodies[i, 0:3]            \n",
    "            force = G * bodies[i, 6] * bodies[j, 6] * direction\n",
    "            force = force / (np.linalg.norm(direction) ** 3)\n",
    "            sum_force = sum_force + force\n",
    "\n",
    "        bodies[i, 3:6] = bodies[i, 3:6] + sum_force / bodies[i, 6]\n",
    "    \n",
    "    for i in range(bodies_count):\n",
    "        bodies[i, 0:3] = bodies[i, 0:3] + bodies[i, 3:6] * 0.2\n",
    "        lines[i].append(np.copy(bodies[i, 0:3]))\n",
    "        speeds[i].append(np.linalg.norm(bodies[i, 3:6]))\n",
    "    \n",
    "    positions[str(t*0.01)] = np.copy(bodies[:, 0:3]).astype(np.float32)\n",
    "\n",
    "for line, speed in zip(lines, speeds):\n",
    "    plot += k3d.line(np.array(line).astype(np.float32), attribute=speed, shader=\"mesh\", width=0.0025, \n",
    "                     color_range=[0,0.1], color_map=k3d.basic_color_maps.Jet)"
   ]
  },
  {
   "cell_type": "code",
   "execution_count": 4,
   "metadata": {},
   "outputs": [],
   "source": [
    "points.positions = positions[str(499*0.01)]"
   ]
  },
  {
   "cell_type": "code",
   "execution_count": null,
   "metadata": {},
   "outputs": [],
   "source": []
  }
 ],
 "metadata": {
  "kernelspec": {
   "display_name": "Python 3",
   "language": "python",
   "name": "python3"
  },
  "language_info": {
   "codemirror_mode": {
    "name": "ipython",
    "version": 3
   },
   "file_extension": ".py",
   "mimetype": "text/x-python",
   "name": "python",
   "nbconvert_exporter": "python",
   "pygments_lexer": "ipython3",
   "version": "3.6.5"
  },
  "widgets": {
   "application/vnd.jupyter.widget-state+json": {
    "state": {
     "289d7648d832464aa245562c76633da3": {
      "buffers": [
       {
        "data": "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",
        "encoding": "base64",
        "path": [
         "attribute",
         "compressed_buffer"
        ]
       },
       {
        "data": "eNpjYGjYzwAHAvZlMu5I/Ab7mRpd+2BsEJbgaNoD5NhD+Az2uueL7WByIFVfftvB2Qh9DHA+AAjLEVw=",
        "encoding": "base64",
        "path": [
         "color_map",
         "compressed_buffer"
        ]
       },
       {
        "data": "eNoDAAAAAAE=",
        "encoding": "base64",
        "path": [
         "colors",
         "compressed_buffer"
        ]
       },
       {
        "data": "eNpjYGiwZ8AAxIsBAF7EAv0=",
        "encoding": "base64",
        "path": [
         "model_matrix",
         "compressed_buffer"
        ]
       },
       {
        "data": "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",
        "encoding": "base64",
        "path": [
         "vertices",
         "compressed_buffer"
        ]
       }
      ],
      "model_module": "k3d",
      "model_module_version": "2.6.8",
      "model_name": "ObjectModel",
      "state": {
       "_color_range_high": 0.1,
       "_color_range_low": 0,
       "_view_count": null,
       "_view_module": null,
       "_view_module_version": "",
       "_view_name": null,
       "attribute": {
        "dtype": "float32",
        "shape": [
         500
        ]
       },
       "color": 255,
       "colorLegend": false,
       "color_map": {
        "dtype": "float32",
        "shape": [
         28
        ]
       },
       "color_range": [
        0,
        0.1
       ],
       "colors": {
        "dtype": "uint32",
        "shape": [
         0
        ]
       },
       "compression_level": 0,
       "id": 2370799427880,
       "model_matrix": {
        "dtype": "float32",
        "shape": [
         4,
         4
        ]
       },
       "name": null,
       "radial_segments": 8,
       "shader": "mesh",
       "type": "Line",
       "vertices": {
        "dtype": "float32",
        "shape": [
         500,
         3
        ]
       },
       "visible": true,
       "width": 0.0025
      }
     },
     "291f2ed0e9a9494b9c7e763c2fe394e5": {
      "buffers": [
       {
        "data": "eNoDAAAAAAE=",
        "encoding": "base64",
        "path": [
         "colors",
         "compressed_buffer"
        ]
       },
       {
        "data": "eNpjYGiwZ8AAxIsBAF7EAv0=",
        "encoding": "base64",
        "path": [
         "model_matrix",
         "compressed_buffer"
        ]
       },
       {
        "data": "eNoBLAHT/u4MErxJMn27PFtEPBfYbD7ayQo/nqcPv/9Erz0BJ/y9pHv2PkPx0L7fJlk+Uq1evzTxJ8EbGe7AT/HAPzfbOT1OIai93ACLPuLY+r6mGy4+Wy+RuweOiL8Nv2y/7Y9fvxSPT76i/sg+/w8kPr3YqUDGdAdB6GU0wEJ3t7/tbVa/cdNZv1uFpbyuXrs7iBv2PlmcEr5ZRdS8ennMPhvtOL7Rd5Y+uEcKP8hiRj9CYdq/Njq3Py9e9UBMrm097ta9wI6kHT8lL34/D0nMvqqbeD8dy9M/a3qFP+fGmz2rfoW/a7M1Po4Nfb0kWRO+DuIdv7sIX7/um3u/l486vzRjhDx+jzW+yDcSvpTITr731Ii+bJIpPY7eAj4QUrs+7qSZPoZ4p79PfK4/PnI4vpkvkwg=",
        "encoding": "base64",
        "path": [
         "positions",
         "compressed_buffer"
        ]
       }
      ],
      "model_module": "k3d",
      "model_module_version": "2.6.8",
      "model_name": "ObjectModel",
      "state": {
       "_view_count": null,
       "_view_module": null,
       "_view_module_version": "",
       "_view_name": null,
       "color": 0,
       "colors": {
        "dtype": "uint32",
        "shape": [
         0
        ]
       },
       "compression_level": 0,
       "id": 2370797926272,
       "mesh_detail": 2,
       "model_matrix": {
        "dtype": "float32",
        "shape": [
         4,
         4
        ]
       },
       "name": null,
       "opacity": 1,
       "point_size": 0.05,
       "positions": {
        "dtype": "float32",
        "shape": [
         25,
         3
        ]
       },
       "shader": "3dSpecular",
       "type": "Points",
       "visible": true
      }
     },
     "3068bddd7e1945b5b3ff45426d6e5f5d": {
      "buffers": [
       {
        "data": "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",
        "encoding": "base64",
        "path": [
         "attribute",
         "compressed_buffer"
        ]
       },
       {
        "data": "eNpjYGjYzwAHAvZlMu5I/Ab7mRpd+2BsEJbgaNoD5NhD+Az2uueL7WByIFVfftvB2Qh9DHA+AAjLEVw=",
        "encoding": "base64",
        "path": [
         "color_map",
         "compressed_buffer"
        ]
       },
       {
        "data": "eNoDAAAAAAE=",
        "encoding": "base64",
        "path": [
         "colors",
         "compressed_buffer"
        ]
       },
       {
        "data": "eNpjYGiwZ8AAxIsBAF7EAv0=",
        "encoding": "base64",
        "path": [
         "model_matrix",
         "compressed_buffer"
        ]
       },
       {
        "data": "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",
        "encoding": "base64",
        "path": [
         "vertices",
         "compressed_buffer"
        ]
       }
      ],
      "model_module": "k3d",
      "model_module_version": "2.6.8",
      "model_name": "ObjectModel",
      "state": {
       "_color_range_high": 0.1,
       "_color_range_low": 0,
       "_view_count": null,
       "_view_module": null,
       "_view_module_version": "",
       "_view_name": null,
       "attribute": {
        "dtype": "float32",
        "shape": [
         500
        ]
       },
       "color": 255,
       "colorLegend": false,
       "color_map": {
        "dtype": "float32",
        "shape": [
         28
        ]
       },
       "color_range": [
        0,
        0.1
       ],
       "colors": {
        "dtype": "uint32",
        "shape": [
         0
        ]
       },
       "compression_level": 0,
       "id": 2370799242656,
       "model_matrix": {
        "dtype": "float32",
        "shape": [
         4,
         4
        ]
       },
       "name": null,
       "radial_segments": 8,
       "shader": "mesh",
       "type": "Line",
       "vertices": {
        "dtype": "float32",
        "shape": [
         500,
         3
        ]
       },
       "visible": true,
       "width": 0.0025
      }
     },
     "3c1b72fe2b984c888a3ddb827ebe2c36": {
      "buffers": [
       {
        "data": "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",
        "encoding": "base64",
        "path": [
         "attribute",
         "compressed_buffer"
        ]
       },
       {
        "data": "eNpjYGjYzwAHAvZlMu5I/Ab7mRpd+2BsEJbgaNoD5NhD+Az2uueL7WByIFVfftvB2Qh9DHA+AAjLEVw=",
        "encoding": "base64",
        "path": [
         "color_map",
         "compressed_buffer"
        ]
       },
       {
        "data": "eNoDAAAAAAE=",
        "encoding": "base64",
        "path": [
         "colors",
         "compressed_buffer"
        ]
       },
       {
        "data": "eNpjYGiwZ8AAxIsBAF7EAv0=",
        "encoding": "base64",
        "path": [
         "model_matrix",
         "compressed_buffer"
        ]
       },
       {
        "data": "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",
        "encoding": "base64",
        "path": [
         "vertices",
         "compressed_buffer"
        ]
       }
      ],
      "model_module": "k3d",
      "model_module_version": "2.6.8",
      "model_name": "ObjectModel",
      "state": {
       "_color_range_high": 0.1,
       "_color_range_low": 0,
       "_view_count": null,
       "_view_module": null,
       "_view_module_version": "",
       "_view_name": null,
       "attribute": {
        "dtype": "float32",
        "shape": [
         500
        ]
       },
       "color": 255,
       "colorLegend": false,
       "color_map": {
        "dtype": "float32",
        "shape": [
         28
        ]
       },
       "color_range": [
        0,
        0.1
       ],
       "colors": {
        "dtype": "uint32",
        "shape": [
         0
        ]
       },
       "compression_level": 0,
       "id": 2370799430456,
       "model_matrix": {
        "dtype": "float32",
        "shape": [
         4,
         4
        ]
       },
       "name": null,
       "radial_segments": 8,
       "shader": "mesh",
       "type": "Line",
       "vertices": {
        "dtype": "float32",
        "shape": [
         500,
         3
        ]
       },
       "visible": true,
       "width": 0.0025
      }
     },
     "4d440f843eb0464dbc1ac66524708721": {
      "buffers": [
       {
        "data": "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",
        "encoding": "base64",
        "path": [
         "attribute",
         "compressed_buffer"
        ]
       },
       {
        "data": "eNpjYGjYzwAHAvZlMu5I/Ab7mRpd+2BsEJbgaNoD5NhD+Az2uueL7WByIFVfftvB2Qh9DHA+AAjLEVw=",
        "encoding": "base64",
        "path": [
         "color_map",
         "compressed_buffer"
        ]
       },
       {
        "data": "eNoDAAAAAAE=",
        "encoding": "base64",
        "path": [
         "colors",
         "compressed_buffer"
        ]
       },
       {
        "data": "eNpjYGiwZ8AAxIsBAF7EAv0=",
        "encoding": "base64",
        "path": [
         "model_matrix",
         "compressed_buffer"
        ]
       },
       {
        "data": "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",
        "encoding": "base64",
        "path": [
         "vertices",
         "compressed_buffer"
        ]
       }
      ],
      "model_module": "k3d",
      "model_module_version": "2.6.8",
      "model_name": "ObjectModel",
      "state": {
       "_color_range_high": 0.1,
       "_color_range_low": 0,
       "_view_count": null,
       "_view_module": null,
       "_view_module_version": "",
       "_view_name": null,
       "attribute": {
        "dtype": "float32",
        "shape": [
         500
        ]
       },
       "color": 255,
       "colorLegend": false,
       "color_map": {
        "dtype": "float32",
        "shape": [
         28
        ]
       },
       "color_range": [
        0,
        0.1
       ],
       "colors": {
        "dtype": "uint32",
        "shape": [
         0
        ]
       },
       "compression_level": 0,
       "id": 2370799242376,
       "model_matrix": {
        "dtype": "float32",
        "shape": [
         4,
         4
        ]
       },
       "name": null,
       "radial_segments": 8,
       "shader": "mesh",
       "type": "Line",
       "vertices": {
        "dtype": "float32",
        "shape": [
         500,
         3
        ]
       },
       "visible": true,
       "width": 0.0025
      }
     },
     "4edd0ea2d19341c4ae4b0ab2a0eda3f5": {
      "buffers": [
       {
        "data": "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",
        "encoding": "base64",
        "path": [
         "attribute",
         "compressed_buffer"
        ]
       },
       {
        "data": "eNpjYGjYzwAHAvZlMu5I/Ab7mRpd+2BsEJbgaNoD5NhD+Az2uueL7WByIFVfftvB2Qh9DHA+AAjLEVw=",
        "encoding": "base64",
        "path": [
         "color_map",
         "compressed_buffer"
        ]
       },
       {
        "data": "eNoDAAAAAAE=",
        "encoding": "base64",
        "path": [
         "colors",
         "compressed_buffer"
        ]
       },
       {
        "data": "eNpjYGiwZ8AAxIsBAF7EAv0=",
        "encoding": "base64",
        "path": [
         "model_matrix",
         "compressed_buffer"
        ]
       },
       {
        "data": "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",
        "encoding": "base64",
        "path": [
         "vertices",
         "compressed_buffer"
        ]
       }
      ],
      "model_module": "k3d",
      "model_module_version": "2.6.8",
      "model_name": "ObjectModel",
      "state": {
       "_color_range_high": 0.1,
       "_color_range_low": 0,
       "_view_count": null,
       "_view_module": null,
       "_view_module_version": "",
       "_view_name": null,
       "attribute": {
        "dtype": "float32",
        "shape": [
         500
        ]
       },
       "color": 255,
       "colorLegend": false,
       "color_map": {
        "dtype": "float32",
        "shape": [
         28
        ]
       },
       "color_range": [
        0,
        0.1
       ],
       "colors": {
        "dtype": "uint32",
        "shape": [
         0
        ]
       },
       "compression_level": 0,
       "id": 2370799241648,
       "model_matrix": {
        "dtype": "float32",
        "shape": [
         4,
         4
        ]
       },
       "name": null,
       "radial_segments": 8,
       "shader": "mesh",
       "type": "Line",
       "vertices": {
        "dtype": "float32",
        "shape": [
         500,
         3
        ]
       },
       "visible": true,
       "width": 0.0025
      }
     },
     "541f6701931642948e2c81e37836ada5": {
      "buffers": [
       {
        "data": "eNoN1H94z+Uex3GLlg271Pv+fGdzmEypSbEuP7f7JZuwM6yR+bHQiDOzVlNav8hYRottGRVih/y4EAtFkRhJuCo6LhNRcpz8aKQ6uejkPP94XNfn+tz3/Xm/7/f7vj+Fd15Ljs++nrxq+Z/J1df+Sj6zoYHPPR/m0+5r6H8tauRPHrrVl3S4zU+pauz7NI70VaVNvLNmvmRdlN+S2dzPCb/D3zhgPq468G1Ko/3A4hgfqmjpQx+08u5qnI9Ka+tTd7Tz3Qa19/vCEnynb+/zHU884BtFPOjX5Hb1p2/28AVHvc/+pbfvOaqvX9Qu3S8Y+ohfFJblZ+ox3+GecX7PmTw/ZukzvnLJVF+3pMQXTSvzrU7M951GLfWNuqz32/d/6iOunPJlm6K0MOcl9Qgl67nbOyon425VjW+rlLo47Y9srWmb/qZ+q1uq8nCsKtvGamZFjGpcjIasbaGfB7bQD39Gq/MH0Ro0JVo3k6LVr3G0Rh4PqXJDSGNLQxo+LqRQSkjp8SFtDg8puBTIfxPolh2BklcFOlAZqHxaoKfzAz2aHah9eqBjSYEyOwYqjQuUd0egy7cGirjutLHe6diPTs8fdyr7yilin9OFHU4JW5x2r3Nav8Lp34udJlY5Jc518rOcSl9xavaC08HJTjvzGZ/glJTjtCvbqTDLaUCm06ABTkX9nPamOHWR074exOji1L+zU9eOTg/d6/TEXU4r7nS60cppUqzT1ZBTuTn1bk4ezZzORjgdCUdDYjTg3V8mf8NUfM109HdT919Na6+Y7q03bb1oyjxvunbOtO6sadIZU9fvTU1PmepPmL49bvr6GI7y/A3vDpuafG3q9KVpzCHTggOmf+03tfzclPeZadceU+ta08xdpss7TWM/MZ3Ybsr+2HRmm6lgqynsQ9PbW0zdNjP2vqmkxvTgRtO590zL1ptGrTO1WWv6zxrT5tWMrzKNWMmcd023rzBd/aeprtpUu8xUs9S0/B3Tm0tMlYtNcxeZ5r3N81umt940rVjInAWm3VXsfb7p0humcMRXmlIrTOPLTWXziDPXdOp19oakMvJ8jbVz2PNsk0Nmqal8FnV41WQYXmKqnmk6P8PUBTOKTUem810UvWI6NM3UDlOnkuvLzMH8l0y/vWjKwkcvmOIw63lqWsT3sPc5U2dUTzE1x4xnTb8/Y5qI05NZh68KTWnY+7SpN3Y+RW+xs8DUC7VPmvriYD45o26SKQcX8kxTEIZ5E+kX1uaaeuLgP6g5rkyg1miBDeNND+PkE6xDFNaMo2Y4Pdb0MmKxLcc0DH88Tr3REyfHmKYjHvtHU0s4bB/FeUAkNj9GTNyGTdmm0YjE1pH0BIbaEabJaIsjw8kNXfHTMNNiZKAhtmWZnkQ8jg81VaA/GmDbo6ZCJODsEM4XRiLA4cHUAulojH2ZxEAqbkHtI/QAKWiIvRn0C/3RBF8O4pxhKGJwaiBnBrm4H78NMH2MYqShOerS6S8mIhE3/m76DOUYgXa4nMY6zMJgtMbF/uwFr2II2qC+n+kTvI5sJOB6X9MXWIQ8JKEpvnvYtBHTMQR34Y8+pgN4B4Xogxa4lMp9wQLkoRcCXEjhfmMh8pGKWPzSmz5jGYqQgfa4+ZDpGGowB2ORhAD1vViD5ZiKYUhEM/wk0x4sw4vIQiKicNGbPse7KMZoJCEG/03mX4RNqEABBqIDInE+iZhYjVJMQF/cjXCc68kZwGrMRi7SkICm+LkH9w81eAPPIgvd0RL/6276HnuwErORjwwkIoTr3egFdmMlXkMBBqMb/g+V3nDV",
        "encoding": "base64",
        "path": [
         "attribute",
         "compressed_buffer"
        ]
       },
       {
        "data": "eNpjYGjYzwAHAvZlMu5I/Ab7mRpd+2BsEJbgaNoD5NhD+Az2uueL7WByIFVfftvB2Qh9DHA+AAjLEVw=",
        "encoding": "base64",
        "path": [
         "color_map",
         "compressed_buffer"
        ]
       },
       {
        "data": "eNoDAAAAAAE=",
        "encoding": "base64",
        "path": [
         "colors",
         "compressed_buffer"
        ]
       },
       {
        "data": "eNpjYGiwZ8AAxIsBAF7EAv0=",
        "encoding": "base64",
        "path": [
         "model_matrix",
         "compressed_buffer"
        ]
       },
       {
        "data": "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",
        "encoding": "base64",
        "path": [
         "vertices",
         "compressed_buffer"
        ]
       }
      ],
      "model_module": "k3d",
      "model_module_version": "2.6.8",
      "model_name": "ObjectModel",
      "state": {
       "_color_range_high": 0.1,
       "_color_range_low": 0,
       "_view_count": null,
       "_view_module": null,
       "_view_module_version": "",
       "_view_name": null,
       "attribute": {
        "dtype": "float32",
        "shape": [
         500
        ]
       },
       "color": 255,
       "colorLegend": false,
       "color_map": {
        "dtype": "float32",
        "shape": [
         28
        ]
       },
       "color_range": [
        0,
        0.1
       ],
       "colors": {
        "dtype": "uint32",
        "shape": [
         0
        ]
       },
       "compression_level": 0,
       "id": 2370799242600,
       "model_matrix": {
        "dtype": "float32",
        "shape": [
         4,
         4
        ]
       },
       "name": null,
       "radial_segments": 8,
       "shader": "mesh",
       "type": "Line",
       "vertices": {
        "dtype": "float32",
        "shape": [
         500,
         3
        ]
       },
       "visible": true,
       "width": 0.0025
      }
     },
     "5c6523ed0d6d4086b63bd268d685c072": {
      "buffers": [
       {
        "data": "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",
        "encoding": "base64",
        "path": [
         "attribute",
         "compressed_buffer"
        ]
       },
       {
        "data": "eNpjYGjYzwAHAvZlMu5I/Ab7mRpd+2BsEJbgaNoD5NhD+Az2uueL7WByIFVfftvB2Qh9DHA+AAjLEVw=",
        "encoding": "base64",
        "path": [
         "color_map",
         "compressed_buffer"
        ]
       },
       {
        "data": "eNoDAAAAAAE=",
        "encoding": "base64",
        "path": [
         "colors",
         "compressed_buffer"
        ]
       },
       {
        "data": "eNpjYGiwZ8AAxIsBAF7EAv0=",
        "encoding": "base64",
        "path": [
         "model_matrix",
         "compressed_buffer"
        ]
       },
       {
        "data": "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",
        "encoding": "base64",
        "path": [
         "vertices",
         "compressed_buffer"
        ]
       }
      ],
      "model_module": "k3d",
      "model_module_version": "2.6.8",
      "model_name": "ObjectModel",
      "state": {
       "_color_range_high": 0.1,
       "_color_range_low": 0,
       "_view_count": null,
       "_view_module": null,
       "_view_module_version": "",
       "_view_name": null,
       "attribute": {
        "dtype": "float32",
        "shape": [
         500
        ]
       },
       "color": 255,
       "colorLegend": false,
       "color_map": {
        "dtype": "float32",
        "shape": [
         28
        ]
       },
       "color_range": [
        0,
        0.1
       ],
       "colors": {
        "dtype": "uint32",
        "shape": [
         0
        ]
       },
       "compression_level": 0,
       "id": 2370799242824,
       "model_matrix": {
        "dtype": "float32",
        "shape": [
         4,
         4
        ]
       },
       "name": null,
       "radial_segments": 8,
       "shader": "mesh",
       "type": "Line",
       "vertices": {
        "dtype": "float32",
        "shape": [
         500,
         3
        ]
       },
       "visible": true,
       "width": 0.0025
      }
     },
     "5e14695a728e44d8a108e5b73769b196": {
      "buffers": [
       {
        "data": "eNoNlYlbDQoehlHoJlmGi9DNCFmyRg3v75xWdU5oo5Syhpap66ZumnS1KJQ6Sg4lS6VSkhBlGfuabUaIrNmXMxpZrt3tP3if9/me9/t4fjtfokq43lzExKnbeFBRQKhxPoXRW9j9ahPqkDx2NOfyLSmHP/puIOWIlpUL1tGxezZV57MYsjwTC8c1RP6koaEuneGFq1FHp2HknoqP5Sq6dFpJ//cpxNxPps3l5ZQfSyK0OpHRexJ4XxmP98JlaCPjyFkVi0dxDJW10ez4EIX1kEhU8yNoKFnE/TfheDmEMTwvlNCvwegFBvH26gKsVfOpPTOPcte53KyfjVvoLDq1m0nP7f7802MGRm38+HRgOmNjfDil9Kak4zQePfQi9qgnEYUeXM5wJyvBjZOxU1gYN5nElEmYrHfFapea+ssq2n9w4by5C/1nONMrZyKV95x4OdSJC/GOTL3rQIqdA7N32nPfzJ7WeXYcMbWjc6ktuvG2qK8pMY1S4tdXyf8vKriepOCznQKf9goa64S1JUJoohAUKGRMFh6KEDZW+IeV4DleOOksbPAX7iwRNuYJd88KOz4LRmMVtItWsOmYgmtdlFSEKBlyQYlqjC2GhbaEmtgRkmOHfguTVYU9Hx0ccG10wCLFkdTRToQ9beHPn8jWQGceD3chu5WKslsqzA6qac53xSRzEtkrJuOb3OIk1Y0arTsuZR50O+1Jj2deuHWeRo2tN+5LfOhePR39b770Uc8gYLM/pz8F4O0/C+Mzs3k9bi6fKuYxcvh8sqsWMMg+CN2NYJ5FhGL6cxgbjoUTELGI34dGoHu1mNq9UfRJikbnG4PKJhalaRz3OiwjNz6eIcsSKElIpPfKJNZkLadzfjLFe1OYWbsCxycrma+fyuVBaWjcVrMvNh2P8gwWN2oY2juTNN8sSvLWkvk4m4BRWvolreftrQ08H5tLz/Ub2fgtj9XBm9G7vYXenvk0Xy6gwGMb6oYiDINLaPV9O1NyyugxoZw/Hu2kJGsXh1x209h2L461VXTR7icquIYCx4NcHHQYi78d4XW7Y/jpnaDM4BRmPc7QesQ51rrXMmDpRfT3XGZF839op6jjQfZ1Yv6shwUN5DTewTDkPp1aPWTUtsfo+TzDrNdLRrzS8fBSEx+PNzP+3HsSGj+yz/grl9x/EDS1teg66EnaFX15sqWdbI8zEE2wocwNNJI/w43FJrWzmFZ3lQMfuomluocc3NNLakb1ka3nTMUwpp9UO5qLxnKQlI0dIu6zLKXtzpGysp+V3D5qLaq0CRK4QintaxzEq5+L7D47SRp2eYjunrdE+/lLoMVcKZoSJIeuhkvXA1HSQT9O3HwTZdCsFDFbnSq7r2bIjT5rZYdqvVwdulEcUjfL/AH5Ena8QGysCsXltwLZkb5VYg9skrOjc8XaRiuGrbJEXZUuFyJWiYlbsryZmiCfusWK1+PF8rVHmHTcuUCaNs+W0c/9pGPSNDkc7C6lWldJ03eWqAp7ualRSPK28VL8fJwcnj5GtG9GiGvlMLHKGixPswfKsP39Re+dmWROMpWBR3rLOOde4vX0Z7HM7SaaOV3Ff0JnSR1oLAP+biSuloZi4Wwgn8LbicE2fdnxpI04jmktKT1/MP7BF0oPf+Rp+Xu6VzYTcroJC52OvP4v6R/6DPMTjzG2eMjMvPtoTe/iVNHAN/VN/N5dp01ZHZtC/8t9myskdLmE0/ta3j46x+y7ZwhqPMWbphM0GRxn7rCjzPD7N1+yDhFx4wBtB9Sgt2w/xx9Xkei9F59rLRsMqKR9cwWlGTtJG1nOvroyAiJL+dxpO4+KiullXUTG6UJCvApIf7iV4MgtfP9pM+8K89hlv5EFT3MYrtmAsazna9M6XpRkcyxwLWEDs7ilW4OuWkPWigyqZqSjtFrNL13SsG9exYb6lXQ6voLcihQGb01m97rlmGuS+H11IpvSE9BkxfPHuGWo3OII+zWWO9oYVp2OJuhLFOE2kWQujeDc2UUYmfzK1MVh5NaFUj8+BIPSIAaYLmRY7nx69Q3kRfFccqznYHFlFtlhM7ndNYDvR2bw7Tc/6of6otH5YF7lTU7iNJp8pjLYygtVD0+8WnugbnZj5MspdHgxmbuvJ1H+xZV/dXJlyhA1wyap6BnlQs8iZ0bemchCk4kcm+WEfbkjb384cMPPgebD9kweaM8rrR11xnYYZtii7WbL0gIlJ6yVhF9TkLxEgZG5gvb1QmxmS7+9hAd9hPr/gc8ZmFMMn9LBLA5uLob+EaC3BKKTIT4XTKvB8zaYtBeiWpo/L0porBZet1aQ4qWgtFyBV0cl8S0/YvlEyXR/W7402NJ1jh25r+3QJNnz8hcHtp904FS4Izb9nPgLXTw3wA==",
        "encoding": "base64",
        "path": [
         "attribute",
         "compressed_buffer"
        ]
       },
       {
        "data": "eNpjYGjYzwAHAvZlMu5I/Ab7mRpd+2BsEJbgaNoD5NhD+Az2uueL7WByIFVfftvB2Qh9DHA+AAjLEVw=",
        "encoding": "base64",
        "path": [
         "color_map",
         "compressed_buffer"
        ]
       },
       {
        "data": "eNoDAAAAAAE=",
        "encoding": "base64",
        "path": [
         "colors",
         "compressed_buffer"
        ]
       },
       {
        "data": "eNpjYGiwZ8AAxIsBAF7EAv0=",
        "encoding": "base64",
        "path": [
         "model_matrix",
         "compressed_buffer"
        ]
       },
       {
        "data": "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",
        "encoding": "base64",
        "path": [
         "vertices",
         "compressed_buffer"
        ]
       }
      ],
      "model_module": "k3d",
      "model_module_version": "2.6.8",
      "model_name": "ObjectModel",
      "state": {
       "_color_range_high": 0.1,
       "_color_range_low": 0,
       "_view_count": null,
       "_view_module": null,
       "_view_module_version": "",
       "_view_name": null,
       "attribute": {
        "dtype": "float32",
        "shape": [
         500
        ]
       },
       "color": 255,
       "colorLegend": false,
       "color_map": {
        "dtype": "float32",
        "shape": [
         28
        ]
       },
       "color_range": [
        0,
        0.1
       ],
       "colors": {
        "dtype": "uint32",
        "shape": [
         0
        ]
       },
       "compression_level": 0,
       "id": 2370799428552,
       "model_matrix": {
        "dtype": "float32",
        "shape": [
         4,
         4
        ]
       },
       "name": null,
       "radial_segments": 8,
       "shader": "mesh",
       "type": "Line",
       "vertices": {
        "dtype": "float32",
        "shape": [
         500,
         3
        ]
       },
       "visible": true,
       "width": 0.0025
      }
     },
     "6498e26fe9724784b8ac9bc07b3e7720": {
      "buffers": [
       {
        "data": "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",
        "encoding": "base64",
        "path": [
         "attribute",
         "compressed_buffer"
        ]
       },
       {
        "data": "eNpjYGjYzwAHAvZlMu5I/Ab7mRpd+2BsEJbgaNoD5NhD+Az2uueL7WByIFVfftvB2Qh9DHA+AAjLEVw=",
        "encoding": "base64",
        "path": [
         "color_map",
         "compressed_buffer"
        ]
       },
       {
        "data": "eNoDAAAAAAE=",
        "encoding": "base64",
        "path": [
         "colors",
         "compressed_buffer"
        ]
       },
       {
        "data": "eNpjYGiwZ8AAxIsBAF7EAv0=",
        "encoding": "base64",
        "path": [
         "model_matrix",
         "compressed_buffer"
        ]
       },
       {
        "data": "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",
        "encoding": "base64",
        "path": [
         "vertices",
         "compressed_buffer"
        ]
       }
      ],
      "model_module": "k3d",
      "model_module_version": "2.6.8",
      "model_name": "ObjectModel",
      "state": {
       "_color_range_high": 0.1,
       "_color_range_low": 0,
       "_view_count": null,
       "_view_module": null,
       "_view_module_version": "",
       "_view_name": null,
       "attribute": {
        "dtype": "float32",
        "shape": [
         500
        ]
       },
       "color": 255,
       "colorLegend": false,
       "color_map": {
        "dtype": "float32",
        "shape": [
         28
        ]
       },
       "color_range": [
        0,
        0.1
       ],
       "colors": {
        "dtype": "uint32",
        "shape": [
         0
        ]
       },
       "compression_level": 0,
       "id": 2370799429672,
       "model_matrix": {
        "dtype": "float32",
        "shape": [
         4,
         4
        ]
       },
       "name": null,
       "radial_segments": 8,
       "shader": "mesh",
       "type": "Line",
       "vertices": {
        "dtype": "float32",
        "shape": [
         500,
         3
        ]
       },
       "visible": true,
       "width": 0.0025
      }
     },
     "78e5775e9589424ba5b565f10781921e": {
      "buffers": [
       {
        "data": "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",
        "encoding": "base64",
        "path": [
         "attribute",
         "compressed_buffer"
        ]
       },
       {
        "data": "eNpjYGjYzwAHAvZlMu5I/Ab7mRpd+2BsEJbgaNoD5NhD+Az2uueL7WByIFVfftvB2Qh9DHA+AAjLEVw=",
        "encoding": "base64",
        "path": [
         "color_map",
         "compressed_buffer"
        ]
       },
       {
        "data": "eNoDAAAAAAE=",
        "encoding": "base64",
        "path": [
         "colors",
         "compressed_buffer"
        ]
       },
       {
        "data": "eNpjYGiwZ8AAxIsBAF7EAv0=",
        "encoding": "base64",
        "path": [
         "model_matrix",
         "compressed_buffer"
        ]
       },
       {
        "data": "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",
        "encoding": "base64",
        "path": [
         "vertices",
         "compressed_buffer"
        ]
       }
      ],
      "model_module": "k3d",
      "model_module_version": "2.6.8",
      "model_name": "ObjectModel",
      "state": {
       "_color_range_high": 0.1,
       "_color_range_low": 0,
       "_view_count": null,
       "_view_module": null,
       "_view_module_version": "",
       "_view_name": null,
       "attribute": {
        "dtype": "float32",
        "shape": [
         500
        ]
       },
       "color": 255,
       "colorLegend": false,
       "color_map": {
        "dtype": "float32",
        "shape": [
         28
        ]
       },
       "color_range": [
        0,
        0.1
       ],
       "colors": {
        "dtype": "uint32",
        "shape": [
         0
        ]
       },
       "compression_level": 0,
       "id": 2370799427656,
       "model_matrix": {
        "dtype": "float32",
        "shape": [
         4,
         4
        ]
       },
       "name": null,
       "radial_segments": 8,
       "shader": "mesh",
       "type": "Line",
       "vertices": {
        "dtype": "float32",
        "shape": [
         500,
         3
        ]
       },
       "visible": true,
       "width": 0.0025
      }
     },
     "7f5020a3613448959d38da32655e8516": {
      "buffers": [
       {
        "data": "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",
        "encoding": "base64",
        "path": [
         "attribute",
         "compressed_buffer"
        ]
       },
       {
        "data": "eNpjYGjYzwAHAvZlMu5I/Ab7mRpd+2BsEJbgaNoD5NhD+Az2uueL7WByIFVfftvB2Qh9DHA+AAjLEVw=",
        "encoding": "base64",
        "path": [
         "color_map",
         "compressed_buffer"
        ]
       },
       {
        "data": "eNoDAAAAAAE=",
        "encoding": "base64",
        "path": [
         "colors",
         "compressed_buffer"
        ]
       },
       {
        "data": "eNpjYGiwZ8AAxIsBAF7EAv0=",
        "encoding": "base64",
        "path": [
         "model_matrix",
         "compressed_buffer"
        ]
       },
       {
        "data": "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",
        "encoding": "base64",
        "path": [
         "vertices",
         "compressed_buffer"
        ]
       }
      ],
      "model_module": "k3d",
      "model_module_version": "2.6.8",
      "model_name": "ObjectModel",
      "state": {
       "_color_range_high": 0.1,
       "_color_range_low": 0,
       "_view_count": null,
       "_view_module": null,
       "_view_module_version": "",
       "_view_name": null,
       "attribute": {
        "dtype": "float32",
        "shape": [
         500
        ]
       },
       "color": 255,
       "colorLegend": false,
       "color_map": {
        "dtype": "float32",
        "shape": [
         28
        ]
       },
       "color_range": [
        0,
        0.1
       ],
       "colors": {
        "dtype": "uint32",
        "shape": [
         0
        ]
       },
       "compression_level": 0,
       "id": 2370799431184,
       "model_matrix": {
        "dtype": "float32",
        "shape": [
         4,
         4
        ]
       },
       "name": null,
       "radial_segments": 8,
       "shader": "mesh",
       "type": "Line",
       "vertices": {
        "dtype": "float32",
        "shape": [
         500,
         3
        ]
       },
       "visible": true,
       "width": 0.0025
      }
     },
     "82099dc574824b8a86b809bcc0be3efd": {
      "buffers": [
       {
        "data": "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",
        "encoding": "base64",
        "path": [
         "attribute",
         "compressed_buffer"
        ]
       },
       {
        "data": "eNpjYGjYzwAHAvZlMu5I/Ab7mRpd+2BsEJbgaNoD5NhD+Az2uueL7WByIFVfftvB2Qh9DHA+AAjLEVw=",
        "encoding": "base64",
        "path": [
         "color_map",
         "compressed_buffer"
        ]
       },
       {
        "data": "eNoDAAAAAAE=",
        "encoding": "base64",
        "path": [
         "colors",
         "compressed_buffer"
        ]
       },
       {
        "data": "eNpjYGiwZ8AAxIsBAF7EAv0=",
        "encoding": "base64",
        "path": [
         "model_matrix",
         "compressed_buffer"
        ]
       },
       {
        "data": "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",
        "encoding": "base64",
        "path": [
         "vertices",
         "compressed_buffer"
        ]
       }
      ],
      "model_module": "k3d",
      "model_module_version": "2.6.8",
      "model_name": "ObjectModel",
      "state": {
       "_color_range_high": 0.1,
       "_color_range_low": 0,
       "_view_count": null,
       "_view_module": null,
       "_view_module_version": "",
       "_view_name": null,
       "attribute": {
        "dtype": "float32",
        "shape": [
         500
        ]
       },
       "color": 255,
       "colorLegend": false,
       "color_map": {
        "dtype": "float32",
        "shape": [
         28
        ]
       },
       "color_range": [
        0,
        0.1
       ],
       "colors": {
        "dtype": "uint32",
        "shape": [
         0
        ]
       },
       "compression_level": 0,
       "id": 2370799428720,
       "model_matrix": {
        "dtype": "float32",
        "shape": [
         4,
         4
        ]
       },
       "name": null,
       "radial_segments": 8,
       "shader": "mesh",
       "type": "Line",
       "vertices": {
        "dtype": "float32",
        "shape": [
         500,
         3
        ]
       },
       "visible": true,
       "width": 0.0025
      }
     },
     "8c0aa8c616674be289330cddabb98603": {
      "buffers": [
       {
        "data": "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",
        "encoding": "base64",
        "path": [
         "attribute",
         "compressed_buffer"
        ]
       },
       {
        "data": "eNpjYGjYzwAHAvZlMu5I/Ab7mRpd+2BsEJbgaNoD5NhD+Az2uueL7WByIFVfftvB2Qh9DHA+AAjLEVw=",
        "encoding": "base64",
        "path": [
         "color_map",
         "compressed_buffer"
        ]
       },
       {
        "data": "eNoDAAAAAAE=",
        "encoding": "base64",
        "path": [
         "colors",
         "compressed_buffer"
        ]
       },
       {
        "data": "eNpjYGiwZ8AAxIsBAF7EAv0=",
        "encoding": "base64",
        "path": [
         "model_matrix",
         "compressed_buffer"
        ]
       },
       {
        "data": "eNoNV3c41nsULzN7b68kGpqKq7y/3w8pUd2ybkiFUkmSSknSlRWVPTMzXhGSSHh/53zRtkLeFqW9UClpcLn++5zznPM85zxnfpQei0HyimS6ip5A7lIJeKIfSze8nMSOCClwlDlNHyPTSLtABsy+hdLVZ6YTk9nyEHnxCJ3uIETE9ivCWq+9tKGaMLGoVgYdrW104GNh8vKHKvi32dHhaSLkg7EG5BxbTbvYi5LN/logrLuCHp8hRuaXcGCieQF9DMSIZ99M+OA5k+7yEyfj0nqg9p8ircCZQcZX6kN/ihhN351Btu+cA3McR6it/hJkdsw8EAvspY6oSJJ1ZYbwJ7WZir8uSbrvLYTMK6XUlc1ShH2zGILvJFDPv0kR8fGlsKX2AKV7TppUyy2HE49pKlhPhuBME/AblaJ+XJMhhgtNIUSvhptqLUtGjVdC+0VdrmePLNEz44Lee62Gre5ypIJLQ1+WHz/uvRzJWGkOGzi9/DFfefJ6uSXEB8xkS7/Ik1hDK7jjbM/mHlAgaZw1cC3rFPtsUIFMSq+FdTGZrO8eRXL3lw2YBFSzdv2KZPjFOpDa2sbGOSmR47c2gKfFW3bBHSXiVbwROnUn2AWmyqQi3A6CTkpBUpEycdnmAMs+qcFuORXitdwJdjjqw6VAFdIluhke1y+Fnc9USF6PM+zm0JBqoUo681zhWYgtrM5XJV573EC+9x8ImFQlWxZsg27jHWDopkZqBrbD6Bk/2FujRg6WeIDDs+NgIqVOkj13wLPUcEh0Vyeaal4gzI+BsCp1In5vF4g+jwfp6RrENXAPdE6kgtFGDaKotxc2cbLhR4YGMbrnA34rC2DbSw1S7+sLmo4l4DNXk5RK+4G5z2XQ3adJhEoPQOvJGogo1yQ3LQ9CWUIDpA9okuGHh6AtrxG2zdMiMd4BoFV+G57u0CKxo0fg9LU2kMvSIhOhgTDB74bpXVqkTzwI/MhjqBbRJnPPHodb5DnM+UubvJQ8Ad/ZN7B9lzaRPB0Cb2s/wfYkbVI4eRLOVnyF+aBNNpuFQs+FUWh8q02UvodCZcI4zJPmkBmXTkEUMx13LOUQU/cwGFwmgoccOCRXMRzCDcTR9RCHMDfDYZWqJGomcIhaQATMEpXB62UcYqgXCRrf5ND4Focc7YgE3WeKmNTHIePHomDJbRXsGeYQ/qzTwFSo45iIDqm5exqsk7RQSlWHvNsfDcwRHRQz0CGOCjEwc/MsHDLSIb+vxsBLY31spnTIY4czcEJhLsas0SHfvp6BjwPzcdUGHbIm9izo3lyIX+10SPfcc6CRuQRTHXXI+cZz0L5/GS53msLOsWBiboKtDlM2g7GwVnYFum+a8g2Ng8mnZvjNVocMK8SDA4/GqFU65GF+PHD3W6DWSh3yfUkCVC2zwupFOsSWTYDLP9agve5UPNaJML/WBkfldUju/UTQCliPhZMckr05CUKWbES3QQ7p7E0Cmw92qPOIQyj3ZDic64hfCIf0v0iGn/absaOYQ657pECHkCviWQ65/TwFvlxxw0Y/DpF0SwWnrdtRsIlDIgSpMCLiiZOLOWT5xjS4d2knmk/VS/VWGrT8vRvT3muTxWbp8G3IG8WatElwRTqYnt2HiRnaZEwnA5IN/NDUT5tcicuASdYff1tqk4zxDDhsfxifKGmTGu/z8P7VEXzyWosIPzgPTgeP4a8qLRLFzYSr48dx5UktQhVkwlhECObYaBED8SxQEg1FfQUtYuGTBarWp/D+I00S35oF4ZFhmJ+tSeQXZMM/N8LxvLsmuRGdDTGTEVinq0kuvckGbbMonP5CgzQzOSBx+DQeytEgMuk5sOFSNMq6apAzQznwsj8GHypqELNVuXBL6Sy2tKgTrdRcGFlzDj+FqpOl73Jh79FYXGGiTo6a5MEsXhxee69GPoflgVp3PHpmqJHMjjxY+18C0mvVSKD6BaiYk4S2I6ok2uMCWG9MxtN5qqS1+AJIB6TgTxtVYjlwAcbTU/H8VxUysCgfFBrS0C9Nhdz1ywfrp+kYaKZCnlbkQ8avDKzuUya6A/kgpJKJBiHKJHtOAYQuycJWLWXyt0cBSNtkY0mdEjHJKICC7TnY4KhEnDoKgD6ci0JDiqRcqBCeRObhqQhFwpgUgn/aBVyhqUikdhfCRFE+GlxWIMqphXCyqgDXWyiQrc2F8IlfiKWd8uTNUCEwN4vQwl2eVKoVweEWHsoNyhFiXgRRHcWoHihH1HYXgX/nRdwyTY7UnymChZ0l+Oi0LLlUUQQ17aUYJyNLBjuKQOTeJQxNlCERn4tAtbkMLyvJkCPSPHhbV45qKdKkeR4PfCoqEBWlySErHhTkXcb8eCkStZUH0fGVeENSiggH8EAl5ArqRUiSoRgeWHtXYfOYBFmbO6W3v4r5ByWIchUP/jWtxsa3M8g/zVNYqwZnucwgst08kP+vBm/dFSfMCx4s7ruGl0zFyftBHjysq8UHRWJkxi8eCCdfRwt5MZI/vRiu+tTh1yBRckWiGJ6b1+O7lyLEWL4YIhQbUNdGhBiqFEPuqwbMKxcm8erFYHiFjzvlhImnZjHMDmbR11+IZE3hCCtA/v3phKtRDLYSiJsWTSeUajHsb0OcFzONZCkUw+A5gmdvT6KDVDE0rmtE+8AJdBcuhjeiTZin/x+yv3nggE14pGMMd3/mgXhAMz4I+IMuL3nwZ84NrFP7jXFTOc57dANnX/+JIlO5x0TcRGXHUbxWyQP1JbcwZmAEs7N40P7wFoaFfsfaSB4UBd/GCYVvOLGfBymcOzie9xX9nXiQzt7BYMMvKL6SBxdd7mJw1RCCFg/4w3fxj/EgJowXQdvpe/iz5hMe6y2CHs0WPGT0EQ/VFUHrpRb0ufQeg5KLoMS0FZ/NfIdRvkWws6kVWxLfYKpVEfxY24ZG015jnnoRbG5tQ4V9LzF3oBBC1rejd3c/xrGF4Hm3Hf/66znuPlsIfyw7MCitb6qWhWBe14FLvz/FOr1CmLvgPm7Z8AT1BwqgJPM+juY/wu1VBcAX60ThEQG6HykApwOd+O+qHpxpWgA+PZ24N7YbM0bzYcSkC8mU3FSdDx+Su/CU+n1MmppB7ucurHBpR9G5+fBqdTdapraiwrMLIEjvRm7HPaxIuABi77sxW/guPrC8AL7LHqC7yW0M+poH40EPMHLnTczIzoNSeIDScc041zoP9v73AIdrGlFnKBcWr+zB5Y8RjyTmwmf/Huz8yaL+8lzIKurB20p8nNWdA4Y9Pai8sB69/HLg3GQP1llcx3fiOVAzR4CV9tcwJzcb0mwF+Gt7NYYuywY9bwEmTs1D9I0sWB8mwEC/SrxknwXCGQIs9a/AF32ZsLJUgPoHynDmrkx4cU2A7/eWosenqZ0MAvzscRHP+54HpkmAK5x42DSQAQIiwGarQuzckwFZ9QI8uyQf4UU6/HtZgHFqeRi6OR38cgXYMpaN8vfSwDlGgFRfJu5ekQZzDgjwZV0GBhWlwr1NAqxNTEMrmVQwXCDA+t0piIdS4K/pAnxnmoRvepLhYVcPmokmYNXyZBjJ7sGqjljUi0+CoB09uC7lLJq+T4S/9Xpw+uYY/MJNhH/6HmCP0mlcH5sAxxIeYHN7BK7vjYfzzANsCw/DzwbxkPOuG4dNQtFofxzsie5G37vBKF4VC32zu5HmBOLO4XPQX9eFW30O4ZLF5+CftV0oqNyPDnvOgv79TqyYunNXss+AkV0nDs72wsUdMeDech9THdzxylg0JNP3sSxoC2oYRENlaQcanf8H7dadhhTZDpxTZYfUvijQ823H2Kb1ePN0JKxobsPdLdbYmRcBV+XbsLrVEm2qw8HXuRWP3qJQtTkMLNNasOq6Kc5uOwWS7fdwT8EydO4KhZyxu5gTuQiNC/+Fzll30cVzHpafD4FA8zuYazIb30QGwy6n2xgopIPle4Jgn8ct/HhHHbuYQHCe6sdpUUqoK3UEfm69gXcoWfRqOwQqfzej7eAM9A7zh+DlTZiaIowjC/3gq1wjHtk3Dvdb98GKV4jpecPAbt8LqpcA62+9g1Nvd8P6PSyKPu+FZ+5ekKTBx4oPnZDY7gkljfX44e0tcF3sDqu31uE3QQN8PbUVtAZrUbq+EuTuusLzA9cwPL4I9k9zBvp9NfJczwMxdIJXUzu8Qy0Oaq3t4XDlFfRsCQMRp42QNnkZk1/7gZPDevhkWYHTOS7gZGkDEkfLUHGVJVzSXQNnskrxvaMhjH+xhGlXLyJxVIKBywz8rOPhx8hfrPI2LvyqLEQF6xZW6Y8phKflo+VAFnsy0hhUfPNw+bct7NuJpTB7aQ7u6xjjP961CDivMjHgtxD/Vf188D6VgQf+HORG/zGAPTJpOHJTg9owVw/8I5OxbUYgddlcBwQfEjBU5xI110oTev+Kw7DSx5SRkSo0+53FyjhhmpFQBBIfjSl1mjRpkYGxjEg83m5E6x+RgIyYMOy/Y0M/FReFzU0nkZfvTm8MmwZhZsdwzPEo/ejOT7b6xEEs2hdFr3H5zD6M9MEziYn0vZo3bLPjTvyRlk079z1lzd64YfbRi/Rweyf71dgJ0wyv0teib7NRVhvQupylX0mxbIrMarQauU1/3FzFlidw0fJPJ314bzHr1bIMf9Q8pYOtslj3uvk4ovGG3vY2nnVz0cV0zhA9vCmCtSpRxcdXf9DbJA6ya4qlcUnrf3SKlCs7YieEK8uEmNZyC7Z14xfYPkuMCfkxl73j8AQMGQmm66ssa1nZDIJRKUZnywB/cE8ZXDWXZahjdfyt4cmwVlqeGdkTyTdXOwoBmxQYT1af38RZDQ1jCox1y4mGUXMFyBRWZJR+KZuhG5/lbFFgjo2Ic0ei57CHvssxuZbeXIne+dyqWzJMRm0B10YmmMq5J8ns3n6f2zL8htoxJsaY4G9umZcBbeAmxDxtkqcEC53piqe/aXPj2dR7CKcdjgzRdzSNqVlCWfSuvH66eIcVZb6qij58rJNWEbKn7L1u00X6jfTgz63UnX+e0mzLZTp/3R7KQWqIppOy6WExf8o6dIK+lx9D72ICqYdbxJm7XF+6TzSEynwsy3DtVtMzG0IpaVRhloMWXWUXRikqaDPRB95SeQ7h1N7Hs5iHvUlUbms4tV5rLnNLaxr1/nY4NeflAqafqPDVNoVT3kZLmaYT61g1vzDKVcmYOel8nVVZdIoajzVlPvqJgMz8fymhEjMm6MlCcHIJphr30IxFvxPMHT1KGTwwZ5KPngAfuUNU8xdLZrQ1ER5V+lLNzVbMTZ2pH+rVbmrUbg2TYFQHDyo9qJ5ca6ZbqBV6Z22hQq+sZcISn8F8C0eqLcaGEX72BSYVNlBrFtsy0d+m4Y+c1dSyfFvmYY8Eyn6iqNy3tszpVEVsGjOmXCdsmS5jLZR4vJCaHLJlxq7OxiPh+tRYrS2zTX4hLhTSpmLdbBmXv43xt7MS1f7MhnH1odAlWpIqM7dhuvasxsC06dTPsLXMCusNeFZymLuj1JqREHPCd5efc0Nr1jDNF93wl04bt5W3mulfsBOd3eu5BSetmBdJPmgTUMy1t1jFWDw7iM2eyVyZQQsmRCoIgxeEcn+GmTPicqEoKHXlzhRjmOtnwjGreRk39CjFSPyOQteLUlxJgRnz15Yz6M2/a5apt5IJvByLDWWHzYQ8TBnR0QT0yLu0UjTOhFEzSsHVqsn12yqWM6/c0/HpA++GOjRissMycQd9s4FtXsIEnc9Be21JvmjDIqa86AL6Gy7jz+EtYHYVFeKLNVv4ZRHzmUcZxSgwOcXXdJ3LLAkrxYgNqfxhPQMmx6Mcq3aV8kte6TEbjCtRLxT4VzJ0GZ//qvBaZhc/cI0Oo8vWoFPNW/6uj1pMuv91nGj9zX8aocH80WxAj69irKm6GuPHZ/HJL3n2QaEyo+lAcNqkJis2T5GZ3d+E+4UM2Jk8OebyjpvYLLSEPaAlwzzvuz3FOVew5mclGcHf95D/axX7aEScqbnWiuzQBvaEiyiTpdyBW55vZg/UCjHlPp1o1+LBfpWdxgjXdaNblQ975OYfunG8B7nJAayi5w962spHWH3gJDtv5Avd7/sEV8+OYGee/EQHZfRis1QM6zH5hv7If4YrhmPZjcf6adtH/Rj/IIm1/viErvn0Ei9fTWd5Dj201ehr/Dcum71R00FL/3mLg7vz2R9y92jD0ff4mlvMxnrdoK9++oh2MmXs46tA8x8NoG5vJWswdp12gyFcxathWfoqXZr1BS/uq2dfHy+n6w4No/liZF9eLabzVn3HscFmdvTtBfqA1A9su3iH9VLOopn2Uby4vY3dw6TSOtG/MEShi6W84mk96g9aNQpYTlQMvfXjGH72ecquKgqnn8f/h4cV+tmbIcF0w5JJvF39mt1RfoAO9ZpG+u0/sDd7dtIvp3hB9cAgu+mnMy0+Mp2YnRpmdyhvoMdqhcg+xVHWbaEFfeuoMGHy/rAp5sa073IRUjZ3kt21cR79c1CECATTwcBVm/YrFCVZKiIwx0OefrJZjOg5ikH9ThGaFhcne+NmgNvdr1RBjTjZd0cScm88puTcZ5A5E9LQVd9IxYhJkPRlchBVVkJplEmQBi8FWHc+gbqxQZLEpyjBBvGDVNyAJJFvVgGrhxbUqdNShB5Sg5MX5KkLutJESVUTfrc3cr/VSpMEShteXrLghqyTIVc8dKDwUWbtml4ZcjhMF8xtLfn2e2WJIF8PgvWa+MUjUxj1YdV9edY2RI4cfDIH/pWyZC2E5cnF4XmgteYgGxclTwLEF0A+JLBm4grkkeYiSHpYwtpEKpCOBUtgfLCRhWmKxNnMCI5Pe8LmBCkSf+vlUC4/zH7+okjU7EwgI04EqncqkfXOpvAwSR6Ge5SIxNaV8CJFG8qtlInddi6cTZkHHyuVycztNJQmGkO5hgo55GYO8ucs4HeoCrHdbAmp4Rug560KKdhoBTLHXMBiitcHr14D9nu9YFWJKuk2XQt/OfvDc1E1wptnC+mWJ0DNU418V10PBsoRMFyvRvhCf0Oa6Bnwl1cnfwY2guSPeEjzUieXu+3gwKtU8K5VJw9rHaC6PQs+imqQgxlOcKM2HziOGuRE4GaIzbkIYrkaZNTRBaaHVUDJOw3ybNEWkPGqBrFFmmSJ6Fa4YFUP+gc1ycCTbVCiS0C4WpPIlbuDythNKPmmSTKDPeFRdwuoLNUiMTY74fnFTti4T4v0Ku4CjeMPwalIi8Q/3Q3HbPtgYa8WKczzhiGVV/BITpuo7PCB3f3vwWWVNnkzyxce8oag+pA2ke3fD4v2foePF7RJ4vkD4Db/N0y0aRNf+4Pg8G4Cvo9qk1yxwyA09TO06XCIQX0ALF0gimdWc8ik91GoEJmBRt4cslD1GBzqk8QbMRxS0hgER6/KoGUphwR4B0NNlDxW3uaQOJkQ0HdVQtlXHPI/Yrhbaw==",
        "encoding": "base64",
        "path": [
         "vertices",
         "compressed_buffer"
        ]
       }
      ],
      "model_module": "k3d",
      "model_module_version": "2.6.8",
      "model_name": "ObjectModel",
      "state": {
       "_color_range_high": 0.1,
       "_color_range_low": 0,
       "_view_count": null,
       "_view_module": null,
       "_view_module_version": "",
       "_view_name": null,
       "attribute": {
        "dtype": "float32",
        "shape": [
         500
        ]
       },
       "color": 255,
       "colorLegend": false,
       "color_map": {
        "dtype": "float32",
        "shape": [
         28
        ]
       },
       "color_range": [
        0,
        0.1
       ],
       "colors": {
        "dtype": "uint32",
        "shape": [
         0
        ]
       },
       "compression_level": 0,
       "id": 2370799427992,
       "model_matrix": {
        "dtype": "float32",
        "shape": [
         4,
         4
        ]
       },
       "name": null,
       "radial_segments": 8,
       "shader": "mesh",
       "type": "Line",
       "vertices": {
        "dtype": "float32",
        "shape": [
         500,
         3
        ]
       },
       "visible": true,
       "width": 0.0025
      }
     },
     "97d3fcff0f7045c699e4505f24e95080": {
      "buffers": [
       {
        "data": "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",
        "encoding": "base64",
        "path": [
         "attribute",
         "compressed_buffer"
        ]
       },
       {
        "data": "eNpjYGjYzwAHAvZlMu5I/Ab7mRpd+2BsEJbgaNoD5NhD+Az2uueL7WByIFVfftvB2Qh9DHA+AAjLEVw=",
        "encoding": "base64",
        "path": [
         "color_map",
         "compressed_buffer"
        ]
       },
       {
        "data": "eNoDAAAAAAE=",
        "encoding": "base64",
        "path": [
         "colors",
         "compressed_buffer"
        ]
       },
       {
        "data": "eNpjYGiwZ8AAxIsBAF7EAv0=",
        "encoding": "base64",
        "path": [
         "model_matrix",
         "compressed_buffer"
        ]
       },
       {
        "data": "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",
        "encoding": "base64",
        "path": [
         "vertices",
         "compressed_buffer"
        ]
       }
      ],
      "model_module": "k3d",
      "model_module_version": "2.6.8",
      "model_name": "ObjectModel",
      "state": {
       "_color_range_high": 0.1,
       "_color_range_low": 0,
       "_view_count": null,
       "_view_module": null,
       "_view_module_version": "",
       "_view_name": null,
       "attribute": {
        "dtype": "float32",
        "shape": [
         500
        ]
       },
       "color": 255,
       "colorLegend": false,
       "color_map": {
        "dtype": "float32",
        "shape": [
         28
        ]
       },
       "color_range": [
        0,
        0.1
       ],
       "colors": {
        "dtype": "uint32",
        "shape": [
         0
        ]
       },
       "compression_level": 0,
       "id": 2370799242432,
       "model_matrix": {
        "dtype": "float32",
        "shape": [
         4,
         4
        ]
       },
       "name": null,
       "radial_segments": 8,
       "shader": "mesh",
       "type": "Line",
       "vertices": {
        "dtype": "float32",
        "shape": [
         500,
         3
        ]
       },
       "visible": true,
       "width": 0.0025
      }
     },
     "981d25ee4a604c7bbde0965da8c2c097": {
      "model_module": "@jupyter-widgets/output",
      "model_module_version": "1.0.0",
      "model_name": "OutputModel",
      "state": {
       "layout": "IPY_MODEL_c01770ab07ec4d00b9cc24173f2d6235",
       "outputs": [
        {
         "data": {
          "application/vnd.jupyter.widget-view+json": {
           "model_id": "a3f55ce954f2407a9943315ff3827633",
           "version_major": 2,
           "version_minor": 0
          },
          "text/plain": "Plot(antialias=3, axes=['x', 'y', 'z'], background_color=16777215, camera=[4.5, 4.5, 4.5, 0.0, 0.0, 0.0, 1.0, …"
         },
         "metadata": {},
         "output_type": "display_data"
        }
       ]
      }
     },
     "9c66ce073d2c4ee3889ede4336b25da0": {
      "model_module": "@jupyter-widgets/base",
      "model_module_version": "1.0.0",
      "model_name": "LayoutModel",
      "state": {}
     },
     "a35ba45ab6364b1385d54e32ba4f2578": {
      "buffers": [
       {
        "data": "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",
        "encoding": "base64",
        "path": [
         "attribute",
         "compressed_buffer"
        ]
       },
       {
        "data": "eNpjYGjYzwAHAvZlMu5I/Ab7mRpd+2BsEJbgaNoD5NhD+Az2uueL7WByIFVfftvB2Qh9DHA+AAjLEVw=",
        "encoding": "base64",
        "path": [
         "color_map",
         "compressed_buffer"
        ]
       },
       {
        "data": "eNoDAAAAAAE=",
        "encoding": "base64",
        "path": [
         "colors",
         "compressed_buffer"
        ]
       },
       {
        "data": "eNpjYGiwZ8AAxIsBAF7EAv0=",
        "encoding": "base64",
        "path": [
         "model_matrix",
         "compressed_buffer"
        ]
       },
       {
        "data": "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",
        "encoding": "base64",
        "path": [
         "vertices",
         "compressed_buffer"
        ]
       }
      ],
      "model_module": "k3d",
      "model_module_version": "2.6.8",
      "model_name": "ObjectModel",
      "state": {
       "_color_range_high": 0.1,
       "_color_range_low": 0,
       "_view_count": null,
       "_view_module": null,
       "_view_module_version": "",
       "_view_name": null,
       "attribute": {
        "dtype": "float32",
        "shape": [
         500
        ]
       },
       "color": 255,
       "colorLegend": true,
       "color_map": {
        "dtype": "float32",
        "shape": [
         28
        ]
       },
       "color_range": [
        0,
        0.1
       ],
       "colors": {
        "dtype": "uint32",
        "shape": [
         0
        ]
       },
       "compression_level": 0,
       "id": 2370799241536,
       "model_matrix": {
        "dtype": "float32",
        "shape": [
         4,
         4
        ]
       },
       "name": null,
       "radial_segments": 8,
       "shader": "mesh",
       "type": "Line",
       "vertices": {
        "dtype": "float32",
        "shape": [
         500,
         3
        ]
       },
       "visible": true,
       "width": 0.0025
      }
     },
     "a3f55ce954f2407a9943315ff3827633": {
      "model_module": "k3d",
      "model_module_version": "2.6.8",
      "model_name": "PlotModel",
      "state": {
       "_backend_version": "2.6.8",
       "_dom_classes": [],
       "_view_count": null,
       "antialias": 3,
       "axes": [
        "x",
        "y",
        "z"
       ],
       "background_color": 16777215,
       "camera": [
        0.7712084487303827,
        -0.40650050275683725,
        -0.5446383506736703,
        -0.0055612740373764515,
        -0.2839736872511019,
        0.1299950783953192,
        -0.10695872199773003,
        -0.21342175058823992,
        -0.9710875285804397
       ],
       "camera_auto_fit": false,
       "camera_no_pan": false,
       "camera_no_rotate": false,
       "camera_no_zoom": false,
       "clipping_planes": [],
       "colorbar_object_id": -1,
       "fps_meter": false,
       "grid": [
        -1,
        -1,
        -1,
        1,
        1,
        1
       ],
       "grid_auto_fit": true,
       "grid_visible": true,
       "height": 512,
       "layout": "IPY_MODEL_9c66ce073d2c4ee3889ede4336b25da0",
       "lighting": 1,
       "menu_visibility": true,
       "object_ids": [
        2370797926272,
        2370799241536,
        2370799241648,
        2370799242432,
        2370799242824,
        2370799242600,
        2370799242152,
        2370799242544,
        2370799243216,
        2370799242656,
        2370799243048,
        2370799242376,
        2370799427936,
        2370799428720,
        2370799428552,
        2370799429000,
        2370799429672,
        2370799427656,
        2370799427880,
        2370799430176,
        2370799427992,
        2370799429336,
        2370799430456,
        2370799430680,
        2370799431128,
        2370799431184
       ],
       "rendering_steps": 1,
       "screenshot": "",
       "screenshot_scale": 4,
       "time": 0,
       "voxel_paint_color": 0
      }
     },
     "b50f970aaad24b52850d2722fc607d3b": {
      "buffers": [
       {
        "data": "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",
        "encoding": "base64",
        "path": [
         "attribute",
         "compressed_buffer"
        ]
       },
       {
        "data": "eNpjYGjYzwAHAvZlMu5I/Ab7mRpd+2BsEJbgaNoD5NhD+Az2uueL7WByIFVfftvB2Qh9DHA+AAjLEVw=",
        "encoding": "base64",
        "path": [
         "color_map",
         "compressed_buffer"
        ]
       },
       {
        "data": "eNoDAAAAAAE=",
        "encoding": "base64",
        "path": [
         "colors",
         "compressed_buffer"
        ]
       },
       {
        "data": "eNpjYGiwZ8AAxIsBAF7EAv0=",
        "encoding": "base64",
        "path": [
         "model_matrix",
         "compressed_buffer"
        ]
       },
       {
        "data": "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",
        "encoding": "base64",
        "path": [
         "vertices",
         "compressed_buffer"
        ]
       }
      ],
      "model_module": "k3d",
      "model_module_version": "2.6.8",
      "model_name": "ObjectModel",
      "state": {
       "_color_range_high": 0.1,
       "_color_range_low": 0,
       "_view_count": null,
       "_view_module": null,
       "_view_module_version": "",
       "_view_name": null,
       "attribute": {
        "dtype": "float32",
        "shape": [
         500
        ]
       },
       "color": 255,
       "colorLegend": false,
       "color_map": {
        "dtype": "float32",
        "shape": [
         28
        ]
       },
       "color_range": [
        0,
        0.1
       ],
       "colors": {
        "dtype": "uint32",
        "shape": [
         0
        ]
       },
       "compression_level": 0,
       "id": 2370799243048,
       "model_matrix": {
        "dtype": "float32",
        "shape": [
         4,
         4
        ]
       },
       "name": null,
       "radial_segments": 8,
       "shader": "mesh",
       "type": "Line",
       "vertices": {
        "dtype": "float32",
        "shape": [
         500,
         3
        ]
       },
       "visible": true,
       "width": 0.0025
      }
     },
     "bb1c63a9edaf4854ab479cc91d220798": {
      "buffers": [
       {
        "data": "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",
        "encoding": "base64",
        "path": [
         "attribute",
         "compressed_buffer"
        ]
       },
       {
        "data": "eNpjYGjYzwAHAvZlMu5I/Ab7mRpd+2BsEJbgaNoD5NhD+Az2uueL7WByIFVfftvB2Qh9DHA+AAjLEVw=",
        "encoding": "base64",
        "path": [
         "color_map",
         "compressed_buffer"
        ]
       },
       {
        "data": "eNoDAAAAAAE=",
        "encoding": "base64",
        "path": [
         "colors",
         "compressed_buffer"
        ]
       },
       {
        "data": "eNpjYGiwZ8AAxIsBAF7EAv0=",
        "encoding": "base64",
        "path": [
         "model_matrix",
         "compressed_buffer"
        ]
       },
       {
        "data": "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",
        "encoding": "base64",
        "path": [
         "vertices",
         "compressed_buffer"
        ]
       }
      ],
      "model_module": "k3d",
      "model_module_version": "2.6.8",
      "model_name": "ObjectModel",
      "state": {
       "_color_range_high": 0.1,
       "_color_range_low": 0,
       "_view_count": null,
       "_view_module": null,
       "_view_module_version": "",
       "_view_name": null,
       "attribute": {
        "dtype": "float32",
        "shape": [
         500
        ]
       },
       "color": 255,
       "colorLegend": false,
       "color_map": {
        "dtype": "float32",
        "shape": [
         28
        ]
       },
       "color_range": [
        0,
        0.1
       ],
       "colors": {
        "dtype": "uint32",
        "shape": [
         0
        ]
       },
       "compression_level": 0,
       "id": 2370799429336,
       "model_matrix": {
        "dtype": "float32",
        "shape": [
         4,
         4
        ]
       },
       "name": null,
       "radial_segments": 8,
       "shader": "mesh",
       "type": "Line",
       "vertices": {
        "dtype": "float32",
        "shape": [
         500,
         3
        ]
       },
       "visible": true,
       "width": 0.0025
      }
     },
     "c01770ab07ec4d00b9cc24173f2d6235": {
      "model_module": "@jupyter-widgets/base",
      "model_module_version": "1.0.0",
      "model_name": "LayoutModel",
      "state": {}
     },
     "c5c9e33620f04f708c803d610a3bf810": {
      "buffers": [
       {
        "data": "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",
        "encoding": "base64",
        "path": [
         "attribute",
         "compressed_buffer"
        ]
       },
       {
        "data": "eNpjYGjYzwAHAvZlMu5I/Ab7mRpd+2BsEJbgaNoD5NhD+Az2uueL7WByIFVfftvB2Qh9DHA+AAjLEVw=",
        "encoding": "base64",
        "path": [
         "color_map",
         "compressed_buffer"
        ]
       },
       {
        "data": "eNoDAAAAAAE=",
        "encoding": "base64",
        "path": [
         "colors",
         "compressed_buffer"
        ]
       },
       {
        "data": "eNpjYGiwZ8AAxIsBAF7EAv0=",
        "encoding": "base64",
        "path": [
         "model_matrix",
         "compressed_buffer"
        ]
       },
       {
        "data": "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",
        "encoding": "base64",
        "path": [
         "vertices",
         "compressed_buffer"
        ]
       }
      ],
      "model_module": "k3d",
      "model_module_version": "2.6.8",
      "model_name": "ObjectModel",
      "state": {
       "_color_range_high": 0.1,
       "_color_range_low": 0,
       "_view_count": null,
       "_view_module": null,
       "_view_module_version": "",
       "_view_name": null,
       "attribute": {
        "dtype": "float32",
        "shape": [
         500
        ]
       },
       "color": 255,
       "colorLegend": false,
       "color_map": {
        "dtype": "float32",
        "shape": [
         28
        ]
       },
       "color_range": [
        0,
        0.1
       ],
       "colors": {
        "dtype": "uint32",
        "shape": [
         0
        ]
       },
       "compression_level": 0,
       "id": 2370799427936,
       "model_matrix": {
        "dtype": "float32",
        "shape": [
         4,
         4
        ]
       },
       "name": null,
       "radial_segments": 8,
       "shader": "mesh",
       "type": "Line",
       "vertices": {
        "dtype": "float32",
        "shape": [
         500,
         3
        ]
       },
       "visible": true,
       "width": 0.0025
      }
     },
     "d8a54da1e37d4d00aad6cb50d73ed1ba": {
      "buffers": [
       {
        "data": "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",
        "encoding": "base64",
        "path": [
         "attribute",
         "compressed_buffer"
        ]
       },
       {
        "data": "eNpjYGjYzwAHAvZlMu5I/Ab7mRpd+2BsEJbgaNoD5NhD+Az2uueL7WByIFVfftvB2Qh9DHA+AAjLEVw=",
        "encoding": "base64",
        "path": [
         "color_map",
         "compressed_buffer"
        ]
       },
       {
        "data": "eNoDAAAAAAE=",
        "encoding": "base64",
        "path": [
         "colors",
         "compressed_buffer"
        ]
       },
       {
        "data": "eNpjYGiwZ8AAxIsBAF7EAv0=",
        "encoding": "base64",
        "path": [
         "model_matrix",
         "compressed_buffer"
        ]
       },
       {
        "data": "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",
        "encoding": "base64",
        "path": [
         "vertices",
         "compressed_buffer"
        ]
       }
      ],
      "model_module": "k3d",
      "model_module_version": "2.6.8",
      "model_name": "ObjectModel",
      "state": {
       "_color_range_high": 0.1,
       "_color_range_low": 0,
       "_view_count": null,
       "_view_module": null,
       "_view_module_version": "",
       "_view_name": null,
       "attribute": {
        "dtype": "float32",
        "shape": [
         500
        ]
       },
       "color": 255,
       "colorLegend": false,
       "color_map": {
        "dtype": "float32",
        "shape": [
         28
        ]
       },
       "color_range": [
        0,
        0.1
       ],
       "colors": {
        "dtype": "uint32",
        "shape": [
         0
        ]
       },
       "compression_level": 0,
       "id": 2370799431128,
       "model_matrix": {
        "dtype": "float32",
        "shape": [
         4,
         4
        ]
       },
       "name": null,
       "radial_segments": 8,
       "shader": "mesh",
       "type": "Line",
       "vertices": {
        "dtype": "float32",
        "shape": [
         500,
         3
        ]
       },
       "visible": true,
       "width": 0.0025
      }
     },
     "d9136c6878f54774a220eab6adba59b8": {
      "buffers": [
       {
        "data": "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",
        "encoding": "base64",
        "path": [
         "attribute",
         "compressed_buffer"
        ]
       },
       {
        "data": "eNpjYGjYzwAHAvZlMu5I/Ab7mRpd+2BsEJbgaNoD5NhD+Az2uueL7WByIFVfftvB2Qh9DHA+AAjLEVw=",
        "encoding": "base64",
        "path": [
         "color_map",
         "compressed_buffer"
        ]
       },
       {
        "data": "eNoDAAAAAAE=",
        "encoding": "base64",
        "path": [
         "colors",
         "compressed_buffer"
        ]
       },
       {
        "data": "eNpjYGiwZ8AAxIsBAF7EAv0=",
        "encoding": "base64",
        "path": [
         "model_matrix",
         "compressed_buffer"
        ]
       },
       {
        "data": "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",
        "encoding": "base64",
        "path": [
         "vertices",
         "compressed_buffer"
        ]
       }
      ],
      "model_module": "k3d",
      "model_module_version": "2.6.8",
      "model_name": "ObjectModel",
      "state": {
       "_color_range_high": 0.1,
       "_color_range_low": 0,
       "_view_count": null,
       "_view_module": null,
       "_view_module_version": "",
       "_view_name": null,
       "attribute": {
        "dtype": "float32",
        "shape": [
         500
        ]
       },
       "color": 255,
       "colorLegend": false,
       "color_map": {
        "dtype": "float32",
        "shape": [
         28
        ]
       },
       "color_range": [
        0,
        0.1
       ],
       "colors": {
        "dtype": "uint32",
        "shape": [
         0
        ]
       },
       "compression_level": 0,
       "id": 2370799242544,
       "model_matrix": {
        "dtype": "float32",
        "shape": [
         4,
         4
        ]
       },
       "name": null,
       "radial_segments": 8,
       "shader": "mesh",
       "type": "Line",
       "vertices": {
        "dtype": "float32",
        "shape": [
         500,
         3
        ]
       },
       "visible": true,
       "width": 0.0025
      }
     },
     "daa4d1c91cf0487e84ecceaaa5cbe748": {
      "buffers": [
       {
        "data": "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",
        "encoding": "base64",
        "path": [
         "attribute",
         "compressed_buffer"
        ]
       },
       {
        "data": "eNpjYGjYzwAHAvZlMu5I/Ab7mRpd+2BsEJbgaNoD5NhD+Az2uueL7WByIFVfftvB2Qh9DHA+AAjLEVw=",
        "encoding": "base64",
        "path": [
         "color_map",
         "compressed_buffer"
        ]
       },
       {
        "data": "eNoDAAAAAAE=",
        "encoding": "base64",
        "path": [
         "colors",
         "compressed_buffer"
        ]
       },
       {
        "data": "eNpjYGiwZ8AAxIsBAF7EAv0=",
        "encoding": "base64",
        "path": [
         "model_matrix",
         "compressed_buffer"
        ]
       },
       {
        "data": "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",
        "encoding": "base64",
        "path": [
         "vertices",
         "compressed_buffer"
        ]
       }
      ],
      "model_module": "k3d",
      "model_module_version": "2.6.8",
      "model_name": "ObjectModel",
      "state": {
       "_color_range_high": 0.1,
       "_color_range_low": 0,
       "_view_count": null,
       "_view_module": null,
       "_view_module_version": "",
       "_view_name": null,
       "attribute": {
        "dtype": "float32",
        "shape": [
         500
        ]
       },
       "color": 255,
       "colorLegend": false,
       "color_map": {
        "dtype": "float32",
        "shape": [
         28
        ]
       },
       "color_range": [
        0,
        0.1
       ],
       "colors": {
        "dtype": "uint32",
        "shape": [
         0
        ]
       },
       "compression_level": 0,
       "id": 2370799429000,
       "model_matrix": {
        "dtype": "float32",
        "shape": [
         4,
         4
        ]
       },
       "name": null,
       "radial_segments": 8,
       "shader": "mesh",
       "type": "Line",
       "vertices": {
        "dtype": "float32",
        "shape": [
         500,
         3
        ]
       },
       "visible": true,
       "width": 0.0025
      }
     },
     "e0b0e0c0cf2849f98c37bb91644c3ce3": {
      "buffers": [
       {
        "data": "eNoNlGlUjgkDhpPdWErP+9Zb2r0tUtKm5XpQKqRkSWWrtAifomYMoUSL7BXRvhAZlSXLV9rIVmmsY2JGGMckiiwxaNL04zrn/nH/uu5z7lDlB7xYch+bU3cZN+QOKaG3cPi1ie+2Nzl1ogG5Xj12ede5rnuNol+uUGlTx7P6S3z2r6Wlu5qN2VWcdKzEr72CtRnlNM76P16KF/hUdY6Dm86iO7mM2AFnyLt1ipXZJ7kZVsoZpxKGaRRz5fMv3HxwHOXyIhJzjiFLPEpVRCF+AUf4MPcwq1wLKBfzuT0pjwKrXPStcphpk81Ahyw8nDKRumfg5ZvO9+WHGLzhIKG70hAKDqBYsR/j+6nEdKbwZUQKe82SsZ27j/Z1e8nP3sPsa7vp6NzFujG7eOq2E4NNO3AuTcLyr+18kG4nZnYiv29P4FtdPB29cZROjsNhyzZSL2+leOBWYmbF0iPfgkt5NDUem/Fp3cj3rVEU6WzApe5nbi9fhzjyJxLKIykIiSBJshbr+nDyo8O4ar2arHer0Dq5kpnhK5BMDCXmcwgxNcEo7wjCwjuQx/JlDP/iT1WTH6+PLCU5egklCxdjZ7sIa9lCsv71YcVzbzIbF2B23gudw/MJT5mHJG4uo9fPITjMk8HLZ9Md4AF+7tQvnUWuvxvVQTPRXTWDxsjpXIh25cVOF+ZlOqNQMo2OWieE3x2JejsV2dCpdMmnMMRlMt7LRR7vgKxTDqQ223Opnz0GZnZcWWJL+p5JFF6y4eUna4JMrZGGWqF4xBKDvyyI17VAI3giHcfN+dI5gal2E7gSb0b8PVO26ZlS+9N4xAYTurVN6NkwDqffjGmaaEx2ihHnPhoi8TWktsaAC4YGfEuVs1tBTvjasRx+ro+Rjz79b+lhPV2Pmjpd8qfq0nJJh/XTdFhTr80NT21iH2mRE6KFVpcmgxM08VHTZPTJMdi6juHmMw1uRWvgqKmBYa06sUHqeA5T5+BZGQv8ZewdIcO5Ro31EWoYG6qx5KkqSpmqzPBRZYCqKq6PpCjlSgkKkTJlgpRj3RIyGiWoZ0swXivhhquET9oSzncLDPpDoP2iQFCuwJp4AaUwgem+AiquAuttBCKMBRS1BUxU+3rKAs6jBKz6qO7LT6QCh7QE2owE7lgLzHERWOEjIF0tsDhOwCZH4FiFQPFDAZdvApFaEixcJMSHS1iRKeHPeglPvkpYayplX5AUh2wpkc1SLCWqRC9QxTNdlaIWVRLkarxco0ZTlRqWw2XI/GTElMlYNlSd2kB10mvUeT1Gg3N9zrr63B3vc3inz+UqmSY/JmrS8UmTe6Fa6D/W4uk8bQY0aZMyXYe4azr84aLLgXpdTnvoYfpAjyH++ji269McNZYbw+Qo58o5a2lAyc2+nUMMyVE04kCBES1OxqxvNWbZ7nFkWpmg99SEf3aNR+ZgSmKHKVPyzZjmPYHkkeYYNpgzOHEi5i4WFAyyZFFjH8lWHPG1xlLfhh/e2WBSO4nUZFucgu2wt7dn02gHBr5x4GEDfD4u4r9zMirhUxC8phKII70GTnSoTMO4vzMVXc7ktLnQ/MSV0ObpzL03g7TbM5l02w27u7PIfuBO8GMP9v89m/HvPZnYO4eiUfPYpzeft5O8uO65AI1V3rxP9MH9mC8T6heS17GIfJUlWItLCVnph2W6P4UNAVT3LCPeKoiesGDMToSg+Wo5d8atwGPNSjIvrKJaYTXVHmEczgkn4t0aLFwjeJsbSfG3H4lYuI6ZlT9D3w/NTYoi9eNGhgRupvp+NBdnbCEhIJbFWlv5u2UrRnnbMAmM44NBPPFv4nl5PgG92EQc3Ldjp56E3uskeit30LxvJ6dDdpEm7maX6h5yPu7h3t29WJXto+lAMoVRKVwPSMXBbT9KNgfwGJuGguQgFkMO8b7nEG6f03F7n4FCZyYbO7No+JBNz5ccDBXz8B2Zz1HNAnTND/PM5QjdfoUkbTpKQdYxAmuLaGs9jtfoEzQ4FhO2roTVpaV0vToJJqfZEnGGAdVlaIw8h37IeXbXXeCpQTmXUyvoHVRJbnwVr4bXsKegllrny4R+rcPvylUKi64TVFLP/IeNrDT/lYqy28zzvEdG629s9m5Gae8jvqT8SVxECyo8ZVTPM9oqn2MV/YJL01pxUm7jTusr5NfauVryhtG5nYRkvGdo3kdmnPrE/xr/oerdV5L0/kUr4DuvvBTE71v6iZvPKIppr/qLm4wGiivCB4lplYNFJ6Wh4rnVw0TLuz+ISpNHiPlnR4pTLJREz4vKor27ihjZJohh+6RisaOaWNYrE5UaNUTfAk3RKFFb1I/SFbs26oseu+Vie6mhuPeZsdhPPl78DxNAFmI=",
        "encoding": "base64",
        "path": [
         "attribute",
         "compressed_buffer"
        ]
       },
       {
        "data": "eNpjYGjYzwAHAvZlMu5I/Ab7mRpd+2BsEJbgaNoD5NhD+Az2uueL7WByIFVfftvB2Qh9DHA+AAjLEVw=",
        "encoding": "base64",
        "path": [
         "color_map",
         "compressed_buffer"
        ]
       },
       {
        "data": "eNoDAAAAAAE=",
        "encoding": "base64",
        "path": [
         "colors",
         "compressed_buffer"
        ]
       },
       {
        "data": "eNpjYGiwZ8AAxIsBAF7EAv0=",
        "encoding": "base64",
        "path": [
         "model_matrix",
         "compressed_buffer"
        ]
       },
       {
        "data": "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",
        "encoding": "base64",
        "path": [
         "vertices",
         "compressed_buffer"
        ]
       }
      ],
      "model_module": "k3d",
      "model_module_version": "2.6.8",
      "model_name": "ObjectModel",
      "state": {
       "_color_range_high": 0.1,
       "_color_range_low": 0,
       "_view_count": null,
       "_view_module": null,
       "_view_module_version": "",
       "_view_name": null,
       "attribute": {
        "dtype": "float32",
        "shape": [
         500
        ]
       },
       "color": 255,
       "colorLegend": false,
       "color_map": {
        "dtype": "float32",
        "shape": [
         28
        ]
       },
       "color_range": [
        0,
        0.1
       ],
       "colors": {
        "dtype": "uint32",
        "shape": [
         0
        ]
       },
       "compression_level": 0,
       "id": 2370799242152,
       "model_matrix": {
        "dtype": "float32",
        "shape": [
         4,
         4
        ]
       },
       "name": null,
       "radial_segments": 8,
       "shader": "mesh",
       "type": "Line",
       "vertices": {
        "dtype": "float32",
        "shape": [
         500,
         3
        ]
       },
       "visible": true,
       "width": 0.0025
      }
     },
     "e5078afd657445789a9306226f5c005e": {
      "buffers": [
       {
        "data": "eNoNzWcgFwgDBnDlUslIJauS8eokDTR4HgkpEZGRdB2KiEuO6hy6ZEXZxV+iREYhDZ20UBkViTeVZDWNKJKrKHcffp9/ev2jlKz/xubrX6hcPMyQkiGmVg5Squ0jjwl9YNOCPoZv6+Xm090U6X5HI923rEp4TbPBl4x27KTp/XYaGLZRp+wFe41buKC+meXOz7j3yxPKJDfRX/cxPV828nZ8A+1XP+KP0YdMulbH4aBafjd+wMOS9xnUXsPiy9WUjq5iiEclO0zvUlrzDkWkbzNNqILlH8ro+PIWbZ/d5ImGG5R9eJ2lddfo9aiUs55cZWlbCZf0/P3feYV+k69w1uxiumhfpvb6Swx3v0jT8Av0yS7ix+rzvP6+kFXTCzlBv4DeHvkcTjrHxMqz1Psnj6/m5zHcOZcyKTmMa8jmG7FsSpmdoWhUFmvuZdJILJO+VqdpmZzBhtZTHFA7xdzfT7L/ZjpvTEmn+JY0Pss/QdkfqayyTmVrznHafU/hfLsU2p8XsHGSgKmuycyrSOKwYhKDDxyjYcdR6hgdpU12IlMnJ3LC7gTGNcVTWz+e/dlxvC4Zx6SAWAa8jaGrTQytKqKptziaihlHODL1CO+HHGbk5yhq7YxiVWskDWwimXrvEB+vOsSeqxFsXhLB9PxwLlULZ9rpMDbMDuOj1FAKZEOpLAihz8wQ7k8+SFOZg6xLCaaoQjC/4gBNjP/ikPl+CtkH0dUlkLO9Azgv6E8GHfGnXNof/Fa4j/IVe7mvaQ9Fe/3YMM6P9+R82af1O/UsfFjgsZsG4d4cyNzFsorfeKbTi+njvZin6smKtTv51suD0xPcubpkB/3b3Jgv4sbni1wp7LidKuHbuOyiC9HmzIVizpSAE596/spDJ7ZSoe4XJo5tYZfWFiq4O1I9bTMlGx1YO8mBW1dtYpm/PQcu2vFjry2vqdnScpsN805uZFWLNfPkrGnmYMV8wQbWPLVkhqwllzha0D9tPfe0m1NFxZyh7mZMKFhHi0FTFq8wZeWBtQyqXsPnkmv4wsGEwZmrefe9MXOWG1Mt1IiG9YYcUjDkqp2rqFRiQMEEA56yXcnlZ/TpNETOMCHtksG5XXr009OjRYwuCztWMF5nBT9HLufz1mVcqb2Mc6OWcn+7Dm2X6fBMjDY932gxV1+LDslLGPhhMSXXLeb0rEWM+L6Qbg4LeeGyJt0kNRnqtYCTajQ4pKpBk5D5/NquTqmV6oxK+5nbR+YxzXEeda6pUV1ejYEB/6N6iyq1qEpBugrtxpTp7aLMjjtKzFdTYn3UXFr0KVLVWpF2V+awQ24Oq/6azYmvZzF73SyeKlLgV2kFXgqSZ90rOa43l+Oiy7IMUJDlwjAZbuibyVb7/5RLc6OGNPWTZzBr3AxG7JrOnuZpbFwzjUbFUtRXlmJ1/FS+HJPk0d2SbGmXYJmVBI1ui9NNR5wauWIUyIvxXOwU7hCewlp/Ubb2T2aK22QKtU7iNLtJrK+bSJ21E2lUIcJhiNCiZALXaE9gW9FPlNL8ia3nhLlSXZiL88azaN54luSOo8nP42h7Vogd84V4f/MYbv76Awmu37HSaxQ3fEcwPvAbRMO+4kHMFxik/AOnrGGoFH1G+PUhBNd8gviTQcx7PYCawY/oG/cRsVIfcE6pH3pafaDxexTY9iJ8Rw+q/LvhdaQLPiffoeniWyRVvsGF5tdQ7n+FnvGvICL7Ens0O6Fj3AHjze3I2N0Gs4hWrEp/gYPFLRCrfY6OV80YHXkGpxnPIKr5FCMmT6Dl1ITz/o/hnfh/+BU04kZVA9Z1PoLsaD00ZOoRrPUQspZ1GNxZC4mIB/gt8z6mlN3D+5YaSHythu/MaszUqcKIdSWUfO4iMvYOFhXehkxtBQx6y5EnWg7r+WXQM7uF7Z43UXv4BvblX4dT7TVE9ZViUKIUJxZfRdjGEhTu+RvSgiu4VVqMnBeXUTd2CUtVLuHFmou443kBPbFFsLp8HsNPC9E6WgBh5QJ4rM2HxK5zGEo8C7nSPBxoz4WqSC4ma+ZgoW02jgWegW5WFhQfZMLk02nkK5zGxtUZ0N11Ci7JJ3GvLB2+3WnYOj0NkfonMOSeiszE40i4mYLbXQLozBCg2yAZ7V5JkE05hmN3j2LjQCJs5iRCYJ4AxT/j0ZsTh2+PY2EpHIt3S2Jw1zkab+OOYEPZYYz2R2FgThQWbIhE4YFD+ONCBCI7w9E5LRyhq8PgvS8UWXkhUG45iF7xgxAyDEZ511+Qs9qPKVcDkTI3AOVR/oj4tA89W/eiv8YPR3V88TzDB1Xiu7EpcBfiur3g4+CJkWoPaK1wh+xZNxTIu+JT9Db0jTkjzc8Jwl1bobL1F4w1OuL4us0YKt8EKV17fLpoizQNG0zNsYa1khVc0i1hLG+BbwJzHJ5phqEkU/wLaF9kfg==",
        "encoding": "base64",
        "path": [
         "attribute",
         "compressed_buffer"
        ]
       },
       {
        "data": "eNpjYGjYzwAHAvZlMu5I/Ab7mRpd+2BsEJbgaNoD5NhD+Az2uueL7WByIFVfftvB2Qh9DHA+AAjLEVw=",
        "encoding": "base64",
        "path": [
         "color_map",
         "compressed_buffer"
        ]
       },
       {
        "data": "eNoDAAAAAAE=",
        "encoding": "base64",
        "path": [
         "colors",
         "compressed_buffer"
        ]
       },
       {
        "data": "eNpjYGiwZ8AAxIsBAF7EAv0=",
        "encoding": "base64",
        "path": [
         "model_matrix",
         "compressed_buffer"
        ]
       },
       {
        "data": "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",
        "encoding": "base64",
        "path": [
         "vertices",
         "compressed_buffer"
        ]
       }
      ],
      "model_module": "k3d",
      "model_module_version": "2.6.8",
      "model_name": "ObjectModel",
      "state": {
       "_color_range_high": 0.1,
       "_color_range_low": 0,
       "_view_count": null,
       "_view_module": null,
       "_view_module_version": "",
       "_view_name": null,
       "attribute": {
        "dtype": "float32",
        "shape": [
         500
        ]
       },
       "color": 255,
       "colorLegend": false,
       "color_map": {
        "dtype": "float32",
        "shape": [
         28
        ]
       },
       "color_range": [
        0,
        0.1
       ],
       "colors": {
        "dtype": "uint32",
        "shape": [
         0
        ]
       },
       "compression_level": 0,
       "id": 2370799243216,
       "model_matrix": {
        "dtype": "float32",
        "shape": [
         4,
         4
        ]
       },
       "name": null,
       "radial_segments": 8,
       "shader": "mesh",
       "type": "Line",
       "vertices": {
        "dtype": "float32",
        "shape": [
         500,
         3
        ]
       },
       "visible": true,
       "width": 0.0025
      }
     },
     "f282d9dad5b74ad6b4e90c93e18dfbb8": {
      "buffers": [
       {
        "data": "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",
        "encoding": "base64",
        "path": [
         "attribute",
         "compressed_buffer"
        ]
       },
       {
        "data": "eNpjYGjYzwAHAvZlMu5I/Ab7mRpd+2BsEJbgaNoD5NhD+Az2uueL7WByIFVfftvB2Qh9DHA+AAjLEVw=",
        "encoding": "base64",
        "path": [
         "color_map",
         "compressed_buffer"
        ]
       },
       {
        "data": "eNoDAAAAAAE=",
        "encoding": "base64",
        "path": [
         "colors",
         "compressed_buffer"
        ]
       },
       {
        "data": "eNpjYGiwZ8AAxIsBAF7EAv0=",
        "encoding": "base64",
        "path": [
         "model_matrix",
         "compressed_buffer"
        ]
       },
       {
        "data": "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",
        "encoding": "base64",
        "path": [
         "vertices",
         "compressed_buffer"
        ]
       }
      ],
      "model_module": "k3d",
      "model_module_version": "2.6.8",
      "model_name": "ObjectModel",
      "state": {
       "_color_range_high": 0.1,
       "_color_range_low": 0,
       "_view_count": null,
       "_view_module": null,
       "_view_module_version": "",
       "_view_name": null,
       "attribute": {
        "dtype": "float32",
        "shape": [
         500
        ]
       },
       "color": 255,
       "colorLegend": false,
       "color_map": {
        "dtype": "float32",
        "shape": [
         28
        ]
       },
       "color_range": [
        0,
        0.1
       ],
       "colors": {
        "dtype": "uint32",
        "shape": [
         0
        ]
       },
       "compression_level": 0,
       "id": 2370799430176,
       "model_matrix": {
        "dtype": "float32",
        "shape": [
         4,
         4
        ]
       },
       "name": null,
       "radial_segments": 8,
       "shader": "mesh",
       "type": "Line",
       "vertices": {
        "dtype": "float32",
        "shape": [
         500,
         3
        ]
       },
       "visible": true,
       "width": 0.0025
      }
     },
     "f9953571e9694b1f99e04819d9aea07b": {
      "buffers": [
       {
        "data": "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",
        "encoding": "base64",
        "path": [
         "attribute",
         "compressed_buffer"
        ]
       },
       {
        "data": "eNpjYGjYzwAHAvZlMu5I/Ab7mRpd+2BsEJbgaNoD5NhD+Az2uueL7WByIFVfftvB2Qh9DHA+AAjLEVw=",
        "encoding": "base64",
        "path": [
         "color_map",
         "compressed_buffer"
        ]
       },
       {
        "data": "eNoDAAAAAAE=",
        "encoding": "base64",
        "path": [
         "colors",
         "compressed_buffer"
        ]
       },
       {
        "data": "eNpjYGiwZ8AAxIsBAF7EAv0=",
        "encoding": "base64",
        "path": [
         "model_matrix",
         "compressed_buffer"
        ]
       },
       {
        "data": "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",
        "encoding": "base64",
        "path": [
         "vertices",
         "compressed_buffer"
        ]
       }
      ],
      "model_module": "k3d",
      "model_module_version": "2.6.8",
      "model_name": "ObjectModel",
      "state": {
       "_color_range_high": 0.1,
       "_color_range_low": 0,
       "_view_count": null,
       "_view_module": null,
       "_view_module_version": "",
       "_view_name": null,
       "attribute": {
        "dtype": "float32",
        "shape": [
         500
        ]
       },
       "color": 255,
       "colorLegend": false,
       "color_map": {
        "dtype": "float32",
        "shape": [
         28
        ]
       },
       "color_range": [
        0,
        0.1
       ],
       "colors": {
        "dtype": "uint32",
        "shape": [
         0
        ]
       },
       "compression_level": 0,
       "id": 2370799430680,
       "model_matrix": {
        "dtype": "float32",
        "shape": [
         4,
         4
        ]
       },
       "name": null,
       "radial_segments": 8,
       "shader": "mesh",
       "type": "Line",
       "vertices": {
        "dtype": "float32",
        "shape": [
         500,
         3
        ]
       },
       "visible": true,
       "width": 0.0025
      }
     }
    },
    "version_major": 2,
    "version_minor": 0
   }
  }
 },
 "nbformat": 4,
 "nbformat_minor": 2
}
