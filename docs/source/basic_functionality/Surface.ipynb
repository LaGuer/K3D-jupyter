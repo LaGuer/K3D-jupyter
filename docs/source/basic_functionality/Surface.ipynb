{
 "cells": [
  {
   "cell_type": "markdown",
   "metadata": {},
   "source": [
    "## Surface"
   ]
  },
  {
   "cell_type": "code",
   "execution_count": 1,
   "metadata": {},
   "outputs": [
    {
     "data": {
      "application/vnd.jupyter.widget-view+json": {
       "model_id": "22b93468d8524074821d0320b411d9a5",
       "version_major": 2,
       "version_minor": 0
      },
      "text/plain": [
       "Output()"
      ]
     },
     "metadata": {},
     "output_type": "display_data"
    }
   ],
   "source": [
    "import numpy as np\n",
    "import k3d\n",
    "\n",
    "plot = k3d.plot()\n",
    "\n",
    "Nx, Ny = 40, 80\n",
    "xmin, xmax, ymin, ymax = -3, 3, 0, 3\n",
    "\n",
    "x = np.linspace(xmin, xmax, Nx, dtype=np.float32)\n",
    "y = np.linspace(ymin, ymax, Ny, dtype=np.float32)\n",
    "x, y = np.meshgrid(x, y)\n",
    "\n",
    "heights = np.sin(x**2 + y**2)\n",
    "\n",
    "plt_surface = k3d.surface(heights, xmin=xmin, xmax=xmax, ymin=ymin, ymax=ymax)\n",
    "plot += plt_surface\n",
    "\n",
    "plot.display()"
   ]
  },
  {
   "cell_type": "code",
   "execution_count": null,
   "metadata": {},
   "outputs": [],
   "source": []
  }
 ],
 "metadata": {
  "kernelspec": {
   "display_name": "Python 3",
   "language": "python",
   "name": "python3"
  },
  "language_info": {
   "codemirror_mode": {
    "name": "ipython",
    "version": 3
   },
   "file_extension": ".py",
   "mimetype": "text/x-python",
   "name": "python",
   "nbconvert_exporter": "python",
   "pygments_lexer": "ipython3",
   "version": "3.6.5"
  },
  "widgets": {
   "application/vnd.jupyter.widget-state+json": {
    "state": {
     "0c976fd71b734f51b4fd947c23928b68": {
      "model_module": "@jupyter-widgets/base",
      "model_module_version": "1.0.0",
      "model_name": "LayoutModel",
      "state": {}
     },
     "22b93468d8524074821d0320b411d9a5": {
      "model_module": "@jupyter-widgets/output",
      "model_module_version": "1.0.0",
      "model_name": "OutputModel",
      "state": {
       "layout": "IPY_MODEL_6156860cff96461787c02793369d9270",
       "outputs": [
        {
         "data": {
          "application/vnd.jupyter.widget-view+json": {
           "model_id": "eeb4b955292e42118aaa3da1cbc10463",
           "version_major": 2,
           "version_minor": 0
          },
          "text/plain": "Plot(antialias=3, axes=['x', 'y', 'z'], background_color=16777215, camera=[4.5, 4.5, 4.5, 0.0, 0.0, 0.0, 1.0, …"
         },
         "metadata": {},
         "output_type": "display_data"
        }
       ]
      }
     },
     "6156860cff96461787c02793369d9270": {
      "model_module": "@jupyter-widgets/base",
      "model_module_version": "1.0.0",
      "model_name": "LayoutModel",
      "state": {}
     },
     "dfdc5cedc7f04f5290086327bcfe02ed": {
      "buffers": [
       {
        "data": "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",
        "encoding": "base64",
        "path": [
         "heights",
         "buffer"
        ]
       },
       {
        "data": "AADAQAAAAAAAAAAAAAAAAAAAAAAAAEBAAAAAAAAAwD8AAAAAAAAAAAAAgD8AAAAAAAAAAAAAAAAAAAAAAACAPw==",
        "encoding": "base64",
        "path": [
         "model_matrix",
         "buffer"
        ]
       }
      ],
      "model_module": "k3d",
      "model_module_version": "2.6.7",
      "model_name": "ObjectModel",
      "state": {
       "_view_count": null,
       "_view_module": null,
       "_view_module_version": "",
       "_view_name": null,
       "color": 255,
       "compression_level": 0,
       "flat_shading": true,
       "heights": {
        "dtype": "float32",
        "shape": [
         80,
         40
        ]
       },
       "id": 2291153628912,
       "model_matrix": {
        "dtype": "float32",
        "shape": [
         4,
         4
        ]
       },
       "name": null,
       "type": "Surface",
       "visible": true,
       "wireframe": false
      }
     },
     "eeb4b955292e42118aaa3da1cbc10463": {
      "model_module": "k3d",
      "model_module_version": "2.6.7",
      "model_name": "PlotModel",
      "state": {
       "_backend_version": "2.6.7",
       "_dom_classes": [],
       "_view_count": null,
       "antialias": 3,
       "axes": [
        "x",
        "y",
        "z"
       ],
       "background_color": 16777215,
       "camera": [
        4.0154670435020625,
        -2.5128414072501863,
        8.833060876082065,
        0,
        1.5,
        -9.834766387939453e-07,
        -0.49747310042190385,
        0.6418429527678703,
        0.5835735929073895
       ],
       "camera_auto_fit": true,
       "camera_no_pan": false,
       "camera_no_rotate": false,
       "camera_no_zoom": false,
       "clipping_planes": [],
       "colorbar_object_id": -1,
       "fps_meter": false,
       "grid": [
        -1,
        -1,
        -1,
        1,
        1,
        1
       ],
       "grid_auto_fit": true,
       "grid_visible": true,
       "height": 512,
       "layout": "IPY_MODEL_0c976fd71b734f51b4fd947c23928b68",
       "lighting": 1,
       "menu_visibility": true,
       "object_ids": [
        2291153628912
       ],
       "rendering_steps": 1,
       "screenshot": "",
       "screenshot_scale": 2,
       "time": 0,
       "voxel_paint_color": 0
      }
     }
    },
    "version_major": 2,
    "version_minor": 0
   }
  }
 },
 "nbformat": 4,
 "nbformat_minor": 2
}
