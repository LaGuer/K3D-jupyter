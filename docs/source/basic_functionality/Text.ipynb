{
 "cells": [
  {
   "cell_type": "markdown",
   "metadata": {},
   "source": [
    "## Text\n",
    "\n",
    "There are three kinds of text objects:\n",
    "\n",
    " - on the 3d scene `k3d.text`, renderes in canvas\n",
    " - on the 2d canvas `k3d.text2d`, renderes in canvas\n",
    " - renders as texture in WebGL  `k3d.texture_text`\n",
    " "
   ]
  },
  {
   "cell_type": "code",
   "execution_count": 1,
   "metadata": {},
   "outputs": [
    {
     "data": {
      "application/vnd.jupyter.widget-view+json": {
       "model_id": "6fdce760da634e98ac59c93f97190137",
       "version_major": 2,
       "version_minor": 0
      },
      "text/plain": [
       "Output()"
      ]
     },
     "metadata": {},
     "output_type": "display_data"
    }
   ],
   "source": [
    "import k3d\n",
    "import numpy as np \n",
    "\n",
    "\n",
    "plot = k3d.plot()\n",
    "g = 9.81\n",
    "v0 = 24\n",
    "alpha = np.radians(45)\n",
    "t_end = 2*v0*np.sin(alpha)/g\n",
    "t = np.linspace(0,t_end,100) \n",
    "\n",
    "# note .T at the end, k3d takes data (x1,y1,z1),(x2,y2,z2)...\n",
    "traj3d = np.stack([ v0*t*np.cos(alpha), \\\n",
    "                    np.zeros_like(t), \\\n",
    "                    v0*t*np.sin(alpha)-g*t**2/2 ]).T.astype(np.float32)\n",
    "\n",
    "plt_traj = k3d.line(traj3d) \n",
    "plt_text = k3d.text('h_{max}', position=[np.cos(alpha)*t_end*v0/2, 0, (v0*np.sin(alpha))**2/(2*g)], color=0xff0000, size=2)\n",
    "plt_text2d = k3d.text2d(r'\\text{ballistic trajectory: } h=v_0 t \\sin \\alpha - \\frac{g t^2}{2}', \\\n",
    "                        position=[0.0, 0.0], color=0x0000ff, size=1)\n",
    "plt_texture_text = k3d.texture_text('START', position=[0, 0, 0],\\\n",
    "                                    font_face='Calibri', color=255, size=4)\n",
    "\n",
    "plot += plt_text \n",
    "plot += plt_text2d \n",
    "plot += plt_texture_text\n",
    "plot += plt_traj\n",
    "\n",
    "plot.display()"
   ]
  },
  {
   "cell_type": "code",
   "execution_count": null,
   "metadata": {},
   "outputs": [],
   "source": []
  }
 ],
 "metadata": {
  "kernelspec": {
   "display_name": "Python 3",
   "language": "python",
   "name": "python3"
  },
  "language_info": {
   "codemirror_mode": {
    "name": "ipython",
    "version": 3
   },
   "file_extension": ".py",
   "mimetype": "text/x-python",
   "name": "python",
   "nbconvert_exporter": "python",
   "pygments_lexer": "ipython3",
   "version": "3.6.5"
  },
  "widgets": {
   "application/vnd.jupyter.widget-state+json": {
    "state": {
     "01acf3218df14f4e8d5b475adebcb998": {
      "model_module": "k3d",
      "model_module_version": "2.6.7",
      "model_name": "ObjectModel",
      "state": {
       "_view_count": null,
       "_view_module": null,
       "_view_module_version": "",
       "_view_name": null,
       "color": 255,
       "compression_level": 0,
       "font_face": "Calibri",
       "font_size": 68,
       "font_weight": 400,
       "id": 3281996444560,
       "name": null,
       "position": [
        0,
        0,
        0
       ],
       "size": 4,
       "text": "START",
       "type": "TextureText",
       "visible": true
      }
     },
     "3970fad05a7944288143c9f3cbc7cfbd": {
      "model_module": "@jupyter-widgets/base",
      "model_module_version": "1.0.0",
      "model_name": "LayoutModel",
      "state": {}
     },
     "3b70643023ef40cd9b7676f360f5e706": {
      "model_module": "k3d",
      "model_module_version": "2.6.7",
      "model_name": "ObjectModel",
      "state": {
       "_view_count": null,
       "_view_module": null,
       "_view_module_version": "",
       "_view_name": null,
       "color": 16711680,
       "compression_level": 0,
       "id": 3281722971864,
       "name": null,
       "position": [
        29.357798165137616,
        0,
        14.67889908256881
       ],
       "reference_point": "lb",
       "size": 2,
       "text": "h_{max}",
       "type": "Text",
       "visible": true
      }
     },
     "6fdce760da634e98ac59c93f97190137": {
      "model_module": "@jupyter-widgets/output",
      "model_module_version": "1.0.0",
      "model_name": "OutputModel",
      "state": {
       "layout": "IPY_MODEL_af89cd45f4424f7aa895d7d15656d269",
       "outputs": [
        {
         "data": {
          "application/vnd.jupyter.widget-view+json": {
           "model_id": "ebfa599c610d4e20b312b2653e583828",
           "version_major": 2,
           "version_minor": 0
          },
          "text/plain": "Plot(antialias=3, axes=['x', 'y', 'z'], background_color=16777215, camera=[4.5, 4.5, 4.5, 0.0, 0.0, 0.0, 1.0, …"
         },
         "metadata": {},
         "output_type": "display_data"
        }
       ]
      }
     },
     "73ccb0fd008e4dff822a832457108378": {
      "model_module": "k3d",
      "model_module_version": "2.6.7",
      "model_name": "ObjectModel",
      "state": {
       "_view_count": null,
       "_view_module": null,
       "_view_module_version": "",
       "_view_name": null,
       "color": 255,
       "compression_level": 0,
       "id": 3281722971752,
       "name": null,
       "position": [
        0,
        0
       ],
       "reference_point": "lt",
       "size": 1,
       "text": "\\text{ballistic trajectory: } h=v_0 t \\sin \\alpha - \\frac{g t^2}{2}",
       "type": "Text2d",
       "visible": true
      }
     },
     "af89cd45f4424f7aa895d7d15656d269": {
      "model_module": "@jupyter-widgets/base",
      "model_module_version": "1.0.0",
      "model_name": "LayoutModel",
      "state": {}
     },
     "ea50eb895327460f95fe18a7a8d87a90": {
      "buffers": [
       {
        "data": "",
        "encoding": "base64",
        "path": [
         "attribute",
         "buffer"
        ]
       },
       {
        "data": "",
        "encoding": "base64",
        "path": [
         "color_map",
         "buffer"
        ]
       },
       {
        "data": "",
        "encoding": "base64",
        "path": [
         "colors",
         "buffer"
        ]
       },
       {
        "data": "AACAPwAAAAAAAAAAAAAAAAAAAAAAAIA/AAAAAAAAAAAAAAAAAAAAAAAAgD8AAAAAAAAAAAAAAAAAAAAAAACAPw==",
        "encoding": "base64",
        "path": [
         "model_matrix",
         "buffer"
        ]
       },
       {
        "data": "AAAAAAAAAAAAAAAAitQXPwAAAADtSxY/itSXPwAAAABRw5Q/z77jPwAAAAAO2Nw/itQXQAAAAAAYshFArMk9QAAAAADaMzRAz75jQAAAAABO8VVA+dmEQAAAAAB06nZAitSXQAAAAACmj4tAG8+qQAAAAADqR5tArMm9QAAAAAAInqpAPsTQQAAAAAD+kblAz77jQAAAAADNI8hAYLn2QAAAAAB1U9ZA+dkEQQAAAAD2IORAQVcOQQAAAABQjPFAitQXQQAAAACClf5A0lEhQQAAAABHngVBG88qQQAAAAC5wAtBZEw0QQAAAAAYshFBrMk9QQAAAABjchdB9UZHQQAAAACaAR1BPsRQQQAAAAC+XyJBhkFaQQAAAADOjCdBz75jQQAAAADLiCxBFzxtQQAAAAC0UzFBYLl2QQAAAACK7TVBVBuAQQAAAABMVjpB+dmEQQAAAAD7jT5BnZiJQQAAAACWlEJBQVeOQQAAAAAdakZB5hWTQQAAAACRDkpBitSXQQAAAADxgU1BLpOcQQAAAAA+xFBB0lGhQQAAAAB31VNBdxCmQQAAAACctVZBG8+qQQAAAACuZFlBv42vQQAAAACt4ltBZEy0QQAAAACXL15BCAu5QQAAAABvS2BBrMm9QQAAAAAyNmJBUYjCQQAAAADi72NB9UbHQQAAAAB/eGVBmQXMQQAAAAAI0GZBPsTQQQAAAAB99mdB4oLVQQAAAADf62hBhkHaQQAAAAAtsGlBKwDfQQAAAABoQ2pBz77jQQAAAACPpWpBc33oQQAAAACj1mpBFzztQQAAAACj1mpBvPrxQQAAAACPpWpBYLn2QQAAAABoQ2pBBHj7QQAAAAAtsGlBVBsAQgAAAADf62hBpnoCQgAAAAB99mdB+dkEQgAAAAAI0GZBSzkHQgAAAAB/eGVBnZgJQgAAAADi72NB7/cLQgAAAAAyNmJBQVcOQgAAAABvS2BBk7YQQgAAAACXL15B5hUTQgAAAACt4ltBOHUVQgAAAACuZFlBitQXQgAAAACctVZB3DMaQgAAAAB31VNBLpMcQgAAAAA+xFBBgPIeQgAAAADxgU1B0lEhQgAAAACRDkpBJbEjQgAAAAAdakZBdxAmQgAAAACWlEJByW8oQgAAAAD7jT5BG88qQgAAAABMVjpBbS4tQgAAAACK7TVBv40vQgAAAAC0UzFBEu0xQgAAAADLiCxBZEw0QgAAAADOjCdBtqs2QgAAAAC+XyJBCAs5QgAAAACaAR1BWmo7QgAAAABjchdBrMk9QgAAAAAYshFB/yhAQgAAAAC5wAtBUYhCQgAAAABHngVBo+dEQgAAAACClf5A9UZHQgAAAABQjPFAR6ZJQgAAAAD2IORAmQVMQgAAAAB1U9ZA62ROQgAAAADNI8hAPsRQQgAAAAD+kblAkCNTQgAAAAAInqpA4oJVQgAAAADqR5tANOJXQgAAAACmj4tAhkFaQgAAAAB06nZA2KBcQgAAAABO8VVAKwBfQgAAAADaMzRAfV9hQgAAAAAYshFAz75jQgAAAAAO2Nw/IR5mQgAAAABRw5Q/c31oQgAAAADtSxY/xdxqQgAAAAAAAACo",
        "encoding": "base64",
        "path": [
         "vertices",
         "buffer"
        ]
       }
      ],
      "model_module": "k3d",
      "model_module_version": "2.6.7",
      "model_name": "ObjectModel",
      "state": {
       "_view_count": null,
       "_view_module": null,
       "_view_module_version": "",
       "_view_name": null,
       "attribute": {
        "dtype": "float32",
        "shape": [
         0
        ]
       },
       "color": 255,
       "color_map": {
        "dtype": "float32",
        "shape": [
         0
        ]
       },
       "color_range": [],
       "colors": {
        "dtype": "uint32",
        "shape": [
         0
        ]
       },
       "compression_level": 0,
       "id": 3281721817464,
       "model_matrix": {
        "dtype": "float32",
        "shape": [
         4,
         4
        ]
       },
       "name": null,
       "radial_segments": 8,
       "shader": "thick",
       "type": "Line",
       "vertices": {
        "dtype": "float32",
        "shape": [
         100,
         3
        ]
       },
       "visible": true,
       "width": 0.01
      }
     },
     "ebfa599c610d4e20b312b2653e583828": {
      "model_module": "k3d",
      "model_module_version": "2.6.7",
      "model_name": "PlotModel",
      "state": {
       "_backend_version": "2.6.7",
       "_dom_classes": [],
       "_view_count": null,
       "antialias": 3,
       "axes": [
        "x",
        "y",
        "z"
       ],
       "background_color": 16777215,
       "camera": [
        85.38790044121828,
        -90.0451542278064,
        9.341711053185708,
        25.357797622680664,
        0,
        3.338700771331787,
        0,
        0,
        1
       ],
       "camera_auto_fit": true,
       "camera_no_pan": false,
       "camera_no_rotate": false,
       "camera_no_zoom": false,
       "clipping_planes": [],
       "colorbar_object_id": -1,
       "fps_meter": false,
       "grid": [
        -1,
        -1,
        -1,
        1,
        1,
        1
       ],
       "grid_auto_fit": true,
       "grid_visible": true,
       "height": 512,
       "layout": "IPY_MODEL_3970fad05a7944288143c9f3cbc7cfbd",
       "lighting": 1,
       "menu_visibility": true,
       "object_ids": [
        3281722971864,
        3281722971752,
        3281996444560,
        3281721817464
       ],
       "rendering_steps": 1,
       "screenshot": "",
       "screenshot_scale": 2,
       "time": 0,
       "voxel_paint_color": 0
      }
     }
    },
    "version_major": 2,
    "version_minor": 0
   }
  }
 },
 "nbformat": 4,
 "nbformat_minor": 2
}
