{
 "cells": [
  {
   "cell_type": "markdown",
   "metadata": {},
   "source": [
    "## Platonic solids"
   ]
  },
  {
   "cell_type": "code",
   "execution_count": 1,
   "metadata": {},
   "outputs": [],
   "source": [
    "from k3d.platonic import Cube, Icosahedron, Dodecahedron, Tetrahedron, Octahedron"
   ]
  },
  {
   "cell_type": "code",
   "execution_count": 2,
   "metadata": {},
   "outputs": [
    {
     "data": {
      "application/vnd.jupyter.widget-view+json": {
       "model_id": "6f841130d3e942b2afb0708a724ce02b",
       "version_major": 2,
       "version_minor": 0
      },
      "text/plain": [
       "Output()"
      ]
     },
     "metadata": {},
     "output_type": "display_data"
    }
   ],
   "source": [
    "cube_mesh = Cube(origin=[1,1,1], size=0.1).mesh\n",
    "cube_mesh.color = 0xff0000\n",
    "cube_mesh"
   ]
  },
  {
   "cell_type": "code",
   "execution_count": 3,
   "metadata": {},
   "outputs": [
    {
     "data": {
      "application/vnd.jupyter.widget-view+json": {
       "model_id": "8bce4f192c9b4f998a1ff368bc28b09d",
       "version_major": 2,
       "version_minor": 0
      },
      "text/plain": [
       "Output()"
      ]
     },
     "metadata": {},
     "output_type": "display_data"
    }
   ],
   "source": [
    "tetrahedron_mesh = Tetrahedron().mesh\n",
    "tetrahedron_mesh.wireframe = True\n",
    "Octahedron().mesh + tetrahedron_mesh"
   ]
  },
  {
   "cell_type": "code",
   "execution_count": 4,
   "metadata": {},
   "outputs": [
    {
     "data": {
      "application/vnd.jupyter.widget-view+json": {
       "model_id": "467275c62ad7443eb39afa8055f0c0f0",
       "version_major": 2,
       "version_minor": 0
      },
      "text/plain": [
       "Output()"
      ]
     },
     "metadata": {},
     "output_type": "display_data"
    }
   ],
   "source": [
    "Icosahedron().mesh + Dodecahedron().mesh"
   ]
  },
  {
   "cell_type": "code",
   "execution_count": null,
   "metadata": {},
   "outputs": [],
   "source": []
  }
 ],
 "metadata": {
  "kernelspec": {
   "display_name": "Python 3",
   "language": "python",
   "name": "python3"
  },
  "language_info": {
   "codemirror_mode": {
    "name": "ipython",
    "version": 3
   },
   "file_extension": ".py",
   "mimetype": "text/x-python",
   "name": "python",
   "nbconvert_exporter": "python",
   "pygments_lexer": "ipython3",
   "version": "3.6.5"
  },
  "widgets": {
   "application/vnd.jupyter.widget-state+json": {
    "state": {
     "0f1b542dd77842d3ade8aa703ce6e8ab": {
      "model_module": "@jupyter-widgets/base",
      "model_module_version": "1.0.0",
      "model_name": "LayoutModel",
      "state": {}
     },
     "120a99c14cff4c3eadd58d55e16ea74b": {
      "model_module": "k3d",
      "model_module_version": "2.6.7",
      "model_name": "PlotModel",
      "state": {
       "_backend_version": "2.6.7",
       "_dom_classes": [],
       "_view_count": null,
       "antialias": 3,
       "axes": [
        "x",
        "y",
        "z"
       ],
       "background_color": 16777215,
       "camera": [
        1.2877883343400551,
        0.5683174984899172,
        1.0287788334340058,
        1,
        1,
        1,
        0,
        0,
        1
       ],
       "camera_auto_fit": true,
       "camera_no_pan": false,
       "camera_no_rotate": false,
       "camera_no_zoom": false,
       "clipping_planes": [],
       "colorbar_object_id": -1,
       "fps_meter": false,
       "grid": [
        -1,
        -1,
        -1,
        1,
        1,
        1
       ],
       "grid_auto_fit": true,
       "grid_visible": true,
       "height": 512,
       "layout": "IPY_MODEL_0f1b542dd77842d3ade8aa703ce6e8ab",
       "lighting": 1,
       "menu_visibility": true,
       "object_ids": [
        2024347774704
       ],
       "rendering_steps": 1,
       "screenshot": "",
       "screenshot_scale": 2,
       "time": 0,
       "voxel_paint_color": 0
      }
     },
     "235c43f576374729a4291097fb0d66c5": {
      "buffers": [
       {
        "data": "",
        "encoding": "base64",
        "path": [
         "attribute",
         "buffer"
        ]
       },
       {
        "data": "",
        "encoding": "base64",
        "path": [
         "color_map",
         "buffer"
        ]
       },
       {
        "data": "AAAAAAIAAAAIAAAAAAAAAAQAAAAIAAAAAAAAAAIAAAAJAAAAAAAAAAUAAAAJAAAAAgAAAAYAAAAIAAAAAgAAAAcAAAAJAAAAAgAAAAYAAAAHAAAAAAAAAAQAAAAFAAAAAQAAAAQAAAAFAAAAAQAAAAUAAAALAAAABwAAAAkAAAALAAAAAwAAAAcAAAALAAAAAwAAAAYAAAAHAAAAAwAAAAYAAAAKAAAABAAAAAgAAAAKAAAABgAAAAgAAAAKAAAAAQAAAAQAAAAKAAAAAQAAAAMAAAALAAAAAQAAAAMAAAAKAAAABQAAAAkAAAALAAAA",
        "encoding": "base64",
        "path": [
         "indices",
         "buffer"
        ]
       },
       {
        "data": "AACAPwAAAAAAAAAAAAAAAAAAAAAAAIA/AAAAAAAAAAAAAAAAAAAAAAAAgD8AAAAAAAAAAAAAAAAAAAAAAACAPw==",
        "encoding": "base64",
        "path": [
         "model_matrix",
         "buffer"
        ]
       },
       {
        "data": "AACAP70bzz8AAAAAAACAP70bz78AAAAAAACAv70bzz8AAAAAAACAv70bz78AAAAAvRvPPwAAAAAAAIA/vRvPPwAAAAAAAIC/vRvPvwAAAAAAAIA/vRvPvwAAAAAAAIC/AAAAAAAAgD+9G88/AAAAAAAAgD+9G8+/AAAAAAAAgL+9G88/AAAAAAAAgL+9G8+/",
        "encoding": "base64",
        "path": [
         "vertices",
         "buffer"
        ]
       }
      ],
      "model_module": "k3d",
      "model_module_version": "2.6.7",
      "model_name": "ObjectModel",
      "state": {
       "_view_count": null,
       "_view_module": null,
       "_view_module_version": "",
       "_view_name": null,
       "attribute": {
        "dtype": "float32",
        "shape": [
         0
        ]
       },
       "color": 255,
       "color_map": {
        "dtype": "float32",
        "shape": [
         0
        ]
       },
       "color_range": [],
       "compression_level": 0,
       "flat_shading": true,
       "id": 2024347774480,
       "indices": {
        "dtype": "uint32",
        "shape": [
         60
        ]
       },
       "model_matrix": {
        "dtype": "float32",
        "shape": [
         4,
         4
        ]
       },
       "name": null,
       "opacity": 1,
       "type": "Mesh",
       "vertices": {
        "dtype": "float32",
        "shape": [
         12,
         3
        ]
       },
       "visible": true,
       "wireframe": false
      }
     },
     "335ef2be1ac44fe580f826cc064f7dee": {
      "model_module": "k3d",
      "model_module_version": "2.6.7",
      "model_name": "PlotModel",
      "state": {
       "_backend_version": "2.6.7",
       "_dom_classes": [],
       "_view_count": null,
       "antialias": 3,
       "axes": [
        "x",
        "y",
        "z"
       ],
       "background_color": 16777215,
       "camera": [
        4.656512002321348,
        -6.9847680034820225,
        0.46565120023213885,
        0,
        0,
        0,
        0,
        0,
        1
       ],
       "camera_auto_fit": true,
       "camera_no_pan": false,
       "camera_no_rotate": false,
       "camera_no_zoom": false,
       "clipping_planes": [],
       "colorbar_object_id": -1,
       "fps_meter": false,
       "grid": [
        -1,
        -1,
        -1,
        1,
        1,
        1
       ],
       "grid_auto_fit": true,
       "grid_visible": true,
       "height": 512,
       "layout": "IPY_MODEL_c65286d473394863bb906363d4b45636",
       "lighting": 1,
       "menu_visibility": true,
       "object_ids": [
        2024347774480,
        2024347834912
       ],
       "rendering_steps": 1,
       "screenshot": "",
       "screenshot_scale": 2,
       "time": 0,
       "voxel_paint_color": 0
      }
     },
     "411e4440e5bd4e2cbe2862cfd4143446": {
      "buffers": [
       {
        "data": "",
        "encoding": "base64",
        "path": [
         "attribute",
         "buffer"
        ]
       },
       {
        "data": "",
        "encoding": "base64",
        "path": [
         "color_map",
         "buffer"
        ]
       },
       {
        "data": "AAAAAAEAAAACAAAAAQAAAAIAAAADAAAAAAAAAAEAAAAEAAAAAQAAAAQAAAAFAAAAAQAAAAMAAAAFAAAAAwAAAAUAAAAHAAAAAAAAAAIAAAAEAAAAAgAAAAQAAAAGAAAAAgAAAAMAAAAHAAAAAgAAAAYAAAAHAAAABAAAAAUAAAAGAAAABQAAAAYAAAAHAAAA",
        "encoding": "base64",
        "path": [
         "indices",
         "buffer"
        ]
       },
       {
        "data": "AACAPwAAAAAAAAAAAAAAAAAAAAAAAIA/AAAAAAAAAAAAAAAAAAAAAAAAgD8AAAAAAAAAAAAAAAAAAAAAAACAPw==",
        "encoding": "base64",
        "path": [
         "model_matrix",
         "buffer"
        ]
       },
       {
        "data": "zcyMP83MjD/NzIw/zcyMP83MjD9mZmY/zcyMP2ZmZj/NzIw/zcyMP2ZmZj9mZmY/ZmZmP83MjD/NzIw/ZmZmP83MjD9mZmY/ZmZmP2ZmZj/NzIw/ZmZmP2ZmZj9mZmY/",
        "encoding": "base64",
        "path": [
         "vertices",
         "buffer"
        ]
       }
      ],
      "model_module": "k3d",
      "model_module_version": "2.6.7",
      "model_name": "ObjectModel",
      "state": {
       "_view_count": null,
       "_view_module": null,
       "_view_module_version": "",
       "_view_name": null,
       "attribute": {
        "dtype": "float32",
        "shape": [
         0
        ]
       },
       "color": 16711680,
       "color_map": {
        "dtype": "float32",
        "shape": [
         0
        ]
       },
       "color_range": [],
       "compression_level": 0,
       "flat_shading": true,
       "id": 2024347774704,
       "indices": {
        "dtype": "uint32",
        "shape": [
         36
        ]
       },
       "model_matrix": {
        "dtype": "float32",
        "shape": [
         4,
         4
        ]
       },
       "name": null,
       "opacity": 1,
       "type": "Mesh",
       "vertices": {
        "dtype": "float32",
        "shape": [
         8,
         3
        ]
       },
       "visible": true,
       "wireframe": false
      }
     },
     "4552bc8c1d99411c8182a17e289cedb6": {
      "model_module": "@jupyter-widgets/base",
      "model_module_version": "1.0.0",
      "model_name": "LayoutModel",
      "state": {}
     },
     "467275c62ad7443eb39afa8055f0c0f0": {
      "model_module": "@jupyter-widgets/output",
      "model_module_version": "1.0.0",
      "model_name": "OutputModel",
      "state": {
       "layout": "IPY_MODEL_68e03b80604248ac8b590251c43dc7bd",
       "outputs": [
        {
         "data": {
          "application/vnd.jupyter.widget-view+json": {
           "model_id": "335ef2be1ac44fe580f826cc064f7dee",
           "version_major": 2,
           "version_minor": 0
          },
          "text/plain": "Plot(antialias=3, axes=['x', 'y', 'z'], background_color=16777215, camera=[4.5, 4.5, 4.5, 0.0, 0.0, 0.0, 1.0, …"
         },
         "metadata": {},
         "output_type": "display_data"
        }
       ]
      }
     },
     "47558176ec88428183fd9efd439bb01d": {
      "buffers": [
       {
        "data": "",
        "encoding": "base64",
        "path": [
         "attribute",
         "buffer"
        ]
       },
       {
        "data": "",
        "encoding": "base64",
        "path": [
         "color_map",
         "buffer"
        ]
       },
       {
        "data": "AAAAAAEAAAACAAAAAAAAAAEAAAADAAAAAQAAAAIAAAADAAAAAAAAAAIAAAADAAAA",
        "encoding": "base64",
        "path": [
         "indices",
         "buffer"
        ]
       },
       {
        "data": "AACAPwAAAAAAAAAAAAAAAAAAAAAAAIA/AAAAAAAAAAAAAAAAAAAAAAAAgD8AAAAAAAAAAAAAAAAAAAAAAACAPw==",
        "encoding": "base64",
        "path": [
         "model_matrix",
         "buffer"
        ]
       },
       {
        "data": "AACAPwAAgD8AAIA/AACAPwAAgL8AAIC/AACAvwAAgD8AAIC/AACAvwAAgL8AAIA/",
        "encoding": "base64",
        "path": [
         "vertices",
         "buffer"
        ]
       }
      ],
      "model_module": "k3d",
      "model_module_version": "2.6.7",
      "model_name": "ObjectModel",
      "state": {
       "_view_count": null,
       "_view_module": null,
       "_view_module_version": "",
       "_view_name": null,
       "attribute": {
        "dtype": "float32",
        "shape": [
         0
        ]
       },
       "color": 255,
       "color_map": {
        "dtype": "float32",
        "shape": [
         0
        ]
       },
       "color_range": [],
       "compression_level": 0,
       "flat_shading": true,
       "id": 2024347832728,
       "indices": {
        "dtype": "uint32",
        "shape": [
         12
        ]
       },
       "model_matrix": {
        "dtype": "float32",
        "shape": [
         4,
         4
        ]
       },
       "name": null,
       "opacity": 1,
       "type": "Mesh",
       "vertices": {
        "dtype": "float32",
        "shape": [
         4,
         3
        ]
       },
       "visible": true,
       "wireframe": true
      }
     },
     "5c3e7947440c45c499315b27c4a303b4": {
      "model_module": "k3d",
      "model_module_version": "2.6.7",
      "model_name": "PlotModel",
      "state": {
       "_backend_version": "2.6.7",
       "_dom_classes": [],
       "_view_count": null,
       "antialias": 3,
       "axes": [
        "x",
        "y",
        "z"
       ],
       "background_color": 16777215,
       "camera": [
        2.8778826572598577,
        -4.316823985889787,
        0.28778826572598526,
        0,
        0,
        0,
        0,
        0,
        1
       ],
       "camera_auto_fit": true,
       "camera_no_pan": false,
       "camera_no_rotate": false,
       "camera_no_zoom": false,
       "clipping_planes": [],
       "colorbar_object_id": -1,
       "fps_meter": false,
       "grid": [
        -1,
        -1,
        -1,
        1,
        1,
        1
       ],
       "grid_auto_fit": true,
       "grid_visible": true,
       "height": 512,
       "layout": "IPY_MODEL_73f8d8e0848f499b8c466dc371b0d884",
       "lighting": 1,
       "menu_visibility": true,
       "object_ids": [
        2024347833848,
        2024347832728
       ],
       "rendering_steps": 1,
       "screenshot": "",
       "screenshot_scale": 2,
       "time": 0,
       "voxel_paint_color": 0
      }
     },
     "68e03b80604248ac8b590251c43dc7bd": {
      "model_module": "@jupyter-widgets/base",
      "model_module_version": "1.0.0",
      "model_name": "LayoutModel",
      "state": {}
     },
     "6f841130d3e942b2afb0708a724ce02b": {
      "model_module": "@jupyter-widgets/output",
      "model_module_version": "1.0.0",
      "model_name": "OutputModel",
      "state": {
       "layout": "IPY_MODEL_a4cf8a255beb46e4b1d0b74b0cde7e1e",
       "outputs": [
        {
         "data": {
          "application/vnd.jupyter.widget-view+json": {
           "model_id": "120a99c14cff4c3eadd58d55e16ea74b",
           "version_major": 2,
           "version_minor": 0
          },
          "text/plain": "Plot(antialias=3, axes=['x', 'y', 'z'], background_color=16777215, camera=[4.5, 4.5, 4.5, 0.0, 0.0, 0.0, 1.0, …"
         },
         "metadata": {},
         "output_type": "display_data"
        }
       ]
      }
     },
     "73f8d8e0848f499b8c466dc371b0d884": {
      "model_module": "@jupyter-widgets/base",
      "model_module_version": "1.0.0",
      "model_name": "LayoutModel",
      "state": {}
     },
     "8bce4f192c9b4f998a1ff368bc28b09d": {
      "model_module": "@jupyter-widgets/output",
      "model_module_version": "1.0.0",
      "model_name": "OutputModel",
      "state": {
       "layout": "IPY_MODEL_4552bc8c1d99411c8182a17e289cedb6",
       "outputs": [
        {
         "data": {
          "application/vnd.jupyter.widget-view+json": {
           "model_id": "5c3e7947440c45c499315b27c4a303b4",
           "version_major": 2,
           "version_minor": 0
          },
          "text/plain": "Plot(antialias=3, axes=['x', 'y', 'z'], background_color=16777215, camera=[4.5, 4.5, 4.5, 0.0, 0.0, 0.0, 1.0, …"
         },
         "metadata": {},
         "output_type": "display_data"
        }
       ]
      }
     },
     "a4cf8a255beb46e4b1d0b74b0cde7e1e": {
      "model_module": "@jupyter-widgets/base",
      "model_module_version": "1.0.0",
      "model_name": "LayoutModel",
      "state": {}
     },
     "c65286d473394863bb906363d4b45636": {
      "model_module": "@jupyter-widgets/base",
      "model_module_version": "1.0.0",
      "model_name": "LayoutModel",
      "state": {}
     },
     "c8263b5efce44d00aed6904915dc2a48": {
      "buffers": [
       {
        "data": "",
        "encoding": "base64",
        "path": [
         "attribute",
         "buffer"
        ]
       },
       {
        "data": "",
        "encoding": "base64",
        "path": [
         "color_map",
         "buffer"
        ]
       },
       {
        "data": "AAAAAAEAAAACAAAAAAAAAAEAAAAFAAAAAQAAAAIAAAADAAAAAQAAAAMAAAAFAAAAAAAAAAQAAAAFAAAAAAAAAAIAAAAEAAAAAgAAAAMAAAAEAAAAAwAAAAQAAAAFAAAA",
        "encoding": "base64",
        "path": [
         "indices",
         "buffer"
        ]
       },
       {
        "data": "AACAPwAAAAAAAAAAAAAAAAAAAAAAAIA/AAAAAAAAAAAAAAAAAAAAAAAAgD8AAAAAAAAAAAAAAAAAAAAAAACAPw==",
        "encoding": "base64",
        "path": [
         "model_matrix",
         "buffer"
        ]
       },
       {
        "data": "AACAPwAAAAAAAAAAAAAAAAAAgD8AAAAAAAAAAAAAAAAAAIA/AACAvwAAAAAAAAAAAAAAAAAAgL8AAAAAAAAAAAAAAAAAAIC/",
        "encoding": "base64",
        "path": [
         "vertices",
         "buffer"
        ]
       }
      ],
      "model_module": "k3d",
      "model_module_version": "2.6.7",
      "model_name": "ObjectModel",
      "state": {
       "_view_count": null,
       "_view_module": null,
       "_view_module_version": "",
       "_view_name": null,
       "attribute": {
        "dtype": "float32",
        "shape": [
         0
        ]
       },
       "color": 255,
       "color_map": {
        "dtype": "float32",
        "shape": [
         0
        ]
       },
       "color_range": [],
       "compression_level": 0,
       "flat_shading": true,
       "id": 2024347833848,
       "indices": {
        "dtype": "uint32",
        "shape": [
         24
        ]
       },
       "model_matrix": {
        "dtype": "float32",
        "shape": [
         4,
         4
        ]
       },
       "name": null,
       "opacity": 1,
       "type": "Mesh",
       "vertices": {
        "dtype": "float32",
        "shape": [
         6,
         3
        ]
       },
       "visible": true,
       "wireframe": false
      }
     },
     "d3b428a63261425185a0e1eb2a2da7e3": {
      "buffers": [
       {
        "data": "",
        "encoding": "base64",
        "path": [
         "attribute",
         "buffer"
        ]
       },
       {
        "data": "",
        "encoding": "base64",
        "path": [
         "color_map",
         "buffer"
        ]
       },
       {
        "data": "AAAAAAEAAAASAAAAAAAAAAEAAAAKAAAAAQAAAAkAAAAKAAAAAAAAAAoAAAAOAAAACgAAAA4AAAAPAAAABAAAAAoAAAAPAAAABAAAAAkAAAAKAAAABAAAAAUAAAAJAAAABAAAAAUAAAATAAAABAAAAA8AAAATAAAABgAAAA8AAAATAAAABgAAABAAAAATAAAABgAAAAcAAAAQAAAABgAAAAcAAAAIAAAABgAAAAgAAAALAAAAAgAAAAMAAAARAAAAAgAAAAMAAAAIAAAAAgAAAAgAAAALAAAAAQAAAAMAAAANAAAAAQAAAAMAAAASAAAAAwAAABEAAAASAAAAAQAAAAkAAAANAAAACQAAAAwAAAANAAAABQAAAAkAAAAMAAAABQAAAAwAAAATAAAADAAAABAAAAATAAAABwAAAAwAAAAQAAAAAwAAAAcAAAAIAAAAAwAAAAcAAAAMAAAAAwAAAAwAAAANAAAADgAAAAYAAAAPAAAADgAAAAYAAAALAAAAAgAAAAsAAAAOAAAAAAAAABEAAAASAAAAAAAAAAIAAAARAAAAAAAAAAIAAAAOAAAA",
        "encoding": "base64",
        "path": [
         "indices",
         "buffer"
        ]
       },
       {
        "data": "AACAPwAAAAAAAAAAAAAAAAAAAAAAAIA/AAAAAAAAAAAAAAAAAAAAAAAAgD8AAAAAAAAAAAAAAAAAAAAAAACAPw==",
        "encoding": "base64",
        "path": [
         "model_matrix",
         "buffer"
        ]
       },
       {
        "data": "AACAvwAAgL8AAIC/AACAvwAAgL8AAIA/AACAvwAAgD8AAIC/AACAvwAAgD8AAIA/AACAPwAAgL8AAIC/AACAPwAAgL8AAIA/AACAPwAAgD8AAIC/AACAPwAAgD8AAIA/AAAAAL0bzz96Nx4/AAAAAL0bz796Nx4/AAAAAL0bz796Nx6/AAAAAL0bzz96Nx6/ejcePwAAAAC9G88/ejcevwAAAAC9G88/ejcevwAAAAC9G8+/ejcePwAAAAC9G8+/vRvPP3o3Hj8AAAAAvRvPv3o3Hj8AAAAAvRvPv3o3Hr8AAAAAvRvPP3o3Hr8AAAAA",
        "encoding": "base64",
        "path": [
         "vertices",
         "buffer"
        ]
       }
      ],
      "model_module": "k3d",
      "model_module_version": "2.6.7",
      "model_name": "ObjectModel",
      "state": {
       "_view_count": null,
       "_view_module": null,
       "_view_module_version": "",
       "_view_name": null,
       "attribute": {
        "dtype": "float32",
        "shape": [
         0
        ]
       },
       "color": 255,
       "color_map": {
        "dtype": "float32",
        "shape": [
         0
        ]
       },
       "color_range": [],
       "compression_level": 0,
       "flat_shading": true,
       "id": 2024347834912,
       "indices": {
        "dtype": "uint32",
        "shape": [
         108
        ]
       },
       "model_matrix": {
        "dtype": "float32",
        "shape": [
         4,
         4
        ]
       },
       "name": null,
       "opacity": 1,
       "type": "Mesh",
       "vertices": {
        "dtype": "float32",
        "shape": [
         20,
         3
        ]
       },
       "visible": true,
       "wireframe": false
      }
     }
    },
    "version_major": 2,
    "version_minor": 0
   }
  }
 },
 "nbformat": 4,
 "nbformat_minor": 2
}
